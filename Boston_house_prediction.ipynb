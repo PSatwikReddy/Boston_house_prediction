{
 "cells": [
  {
   "cell_type": "code",
   "execution_count": 0,
   "metadata": {
    "colab": {},
    "colab_type": "code",
    "id": "xB72ABv0jzlZ"
   },
   "outputs": [],
   "source": [
    "\n",
    "import numpy as np\n",
    "import matplotlib.pyplot as plt\n",
    "import pandas as pd\n",
    "\n",
    "import sklearn\n",
    "from sklearn.datasets import load_boston\n",
    "from tensorflow import keras\n",
    "import os"
   ]
  },
  {
   "cell_type": "code",
   "execution_count": 0,
   "metadata": {
    "colab": {},
    "colab_type": "code",
    "id": "Me9MSFuPqcg6"
   },
   "outputs": [],
   "source": [
    "from matplotlib.animation import FuncAnimation\n",
    "from sklearn.metrics import mean_squared_error\n",
    "from sklearn.model_selection import train_test_split\n",
    "from sklearn.preprocessing import MinMaxScaler\n",
    "from IPython.display import HTML"
   ]
  },
  {
   "cell_type": "markdown",
   "metadata": {
    "colab_type": "text",
    "id": "Ud1tCtTg9W-e"
   },
   "source": [
    "**Loading Boston dataset**"
   ]
  },
  {
   "cell_type": "code",
   "execution_count": 0,
   "metadata": {
    "colab": {},
    "colab_type": "code",
    "id": "gkabj7u7Up7P"
   },
   "outputs": [],
   "source": [
    "boston=load_boston()"
   ]
  },
  {
   "cell_type": "code",
   "execution_count": 4,
   "metadata": {
    "colab": {
     "base_uri": "https://localhost:8080/",
     "height": 202
    },
    "colab_type": "code",
    "id": "VQXml8dIrSqr",
    "outputId": "0f3adff5-0225-49ed-d3b3-cbbe11086e89"
   },
   "outputs": [
    {
     "data": {
      "text/html": [
       "<div>\n",
       "<style scoped>\n",
       "    .dataframe tbody tr th:only-of-type {\n",
       "        vertical-align: middle;\n",
       "    }\n",
       "\n",
       "    .dataframe tbody tr th {\n",
       "        vertical-align: top;\n",
       "    }\n",
       "\n",
       "    .dataframe thead th {\n",
       "        text-align: right;\n",
       "    }\n",
       "</style>\n",
       "<table border=\"1\" class=\"dataframe\">\n",
       "  <thead>\n",
       "    <tr style=\"text-align: right;\">\n",
       "      <th></th>\n",
       "      <th>CRIM</th>\n",
       "      <th>ZN</th>\n",
       "      <th>INDUS</th>\n",
       "      <th>CHAS</th>\n",
       "      <th>NOX</th>\n",
       "      <th>RM</th>\n",
       "      <th>AGE</th>\n",
       "      <th>DIS</th>\n",
       "      <th>RAD</th>\n",
       "      <th>TAX</th>\n",
       "      <th>PTRATIO</th>\n",
       "      <th>B</th>\n",
       "      <th>LSTAT</th>\n",
       "    </tr>\n",
       "  </thead>\n",
       "  <tbody>\n",
       "    <tr>\n",
       "      <th>0</th>\n",
       "      <td>0.00632</td>\n",
       "      <td>18.0</td>\n",
       "      <td>2.31</td>\n",
       "      <td>0.0</td>\n",
       "      <td>0.538</td>\n",
       "      <td>6.575</td>\n",
       "      <td>65.2</td>\n",
       "      <td>4.0900</td>\n",
       "      <td>1.0</td>\n",
       "      <td>296.0</td>\n",
       "      <td>15.3</td>\n",
       "      <td>396.90</td>\n",
       "      <td>4.98</td>\n",
       "    </tr>\n",
       "    <tr>\n",
       "      <th>1</th>\n",
       "      <td>0.02731</td>\n",
       "      <td>0.0</td>\n",
       "      <td>7.07</td>\n",
       "      <td>0.0</td>\n",
       "      <td>0.469</td>\n",
       "      <td>6.421</td>\n",
       "      <td>78.9</td>\n",
       "      <td>4.9671</td>\n",
       "      <td>2.0</td>\n",
       "      <td>242.0</td>\n",
       "      <td>17.8</td>\n",
       "      <td>396.90</td>\n",
       "      <td>9.14</td>\n",
       "    </tr>\n",
       "    <tr>\n",
       "      <th>2</th>\n",
       "      <td>0.02729</td>\n",
       "      <td>0.0</td>\n",
       "      <td>7.07</td>\n",
       "      <td>0.0</td>\n",
       "      <td>0.469</td>\n",
       "      <td>7.185</td>\n",
       "      <td>61.1</td>\n",
       "      <td>4.9671</td>\n",
       "      <td>2.0</td>\n",
       "      <td>242.0</td>\n",
       "      <td>17.8</td>\n",
       "      <td>392.83</td>\n",
       "      <td>4.03</td>\n",
       "    </tr>\n",
       "    <tr>\n",
       "      <th>3</th>\n",
       "      <td>0.03237</td>\n",
       "      <td>0.0</td>\n",
       "      <td>2.18</td>\n",
       "      <td>0.0</td>\n",
       "      <td>0.458</td>\n",
       "      <td>6.998</td>\n",
       "      <td>45.8</td>\n",
       "      <td>6.0622</td>\n",
       "      <td>3.0</td>\n",
       "      <td>222.0</td>\n",
       "      <td>18.7</td>\n",
       "      <td>394.63</td>\n",
       "      <td>2.94</td>\n",
       "    </tr>\n",
       "    <tr>\n",
       "      <th>4</th>\n",
       "      <td>0.06905</td>\n",
       "      <td>0.0</td>\n",
       "      <td>2.18</td>\n",
       "      <td>0.0</td>\n",
       "      <td>0.458</td>\n",
       "      <td>7.147</td>\n",
       "      <td>54.2</td>\n",
       "      <td>6.0622</td>\n",
       "      <td>3.0</td>\n",
       "      <td>222.0</td>\n",
       "      <td>18.7</td>\n",
       "      <td>396.90</td>\n",
       "      <td>5.33</td>\n",
       "    </tr>\n",
       "  </tbody>\n",
       "</table>\n",
       "</div>"
      ],
      "text/plain": [
       "      CRIM    ZN  INDUS  CHAS    NOX  ...  RAD    TAX  PTRATIO       B  LSTAT\n",
       "0  0.00632  18.0   2.31   0.0  0.538  ...  1.0  296.0     15.3  396.90   4.98\n",
       "1  0.02731   0.0   7.07   0.0  0.469  ...  2.0  242.0     17.8  396.90   9.14\n",
       "2  0.02729   0.0   7.07   0.0  0.469  ...  2.0  242.0     17.8  392.83   4.03\n",
       "3  0.03237   0.0   2.18   0.0  0.458  ...  3.0  222.0     18.7  394.63   2.94\n",
       "4  0.06905   0.0   2.18   0.0  0.458  ...  3.0  222.0     18.7  396.90   5.33\n",
       "\n",
       "[5 rows x 13 columns]"
      ]
     },
     "execution_count": 4,
     "metadata": {
      "tags": []
     },
     "output_type": "execute_result"
    }
   ],
   "source": [
    "features=pd.DataFrame(boston.data,columns=boston.feature_names)\n",
    "features.head()"
   ]
  },
  {
   "cell_type": "markdown",
   "metadata": {
    "colab_type": "text",
    "id": "xCj41vQU9lye"
   },
   "source": [
    "# Storing boston target values\n"
   ]
  },
  {
   "cell_type": "code",
   "execution_count": 5,
   "metadata": {
    "colab": {
     "base_uri": "https://localhost:8080/",
     "height": 202
    },
    "colab_type": "code",
    "id": "bCsdyGCLrlSl",
    "outputId": "378954ea-7998-462c-cceb-972c521ef6bc"
   },
   "outputs": [
    {
     "data": {
      "text/html": [
       "<div>\n",
       "<style scoped>\n",
       "    .dataframe tbody tr th:only-of-type {\n",
       "        vertical-align: middle;\n",
       "    }\n",
       "\n",
       "    .dataframe tbody tr th {\n",
       "        vertical-align: top;\n",
       "    }\n",
       "\n",
       "    .dataframe thead th {\n",
       "        text-align: right;\n",
       "    }\n",
       "</style>\n",
       "<table border=\"1\" class=\"dataframe\">\n",
       "  <thead>\n",
       "    <tr style=\"text-align: right;\">\n",
       "      <th></th>\n",
       "      <th>target</th>\n",
       "    </tr>\n",
       "  </thead>\n",
       "  <tbody>\n",
       "    <tr>\n",
       "      <th>0</th>\n",
       "      <td>24.0</td>\n",
       "    </tr>\n",
       "    <tr>\n",
       "      <th>1</th>\n",
       "      <td>21.6</td>\n",
       "    </tr>\n",
       "    <tr>\n",
       "      <th>2</th>\n",
       "      <td>34.7</td>\n",
       "    </tr>\n",
       "    <tr>\n",
       "      <th>3</th>\n",
       "      <td>33.4</td>\n",
       "    </tr>\n",
       "    <tr>\n",
       "      <th>4</th>\n",
       "      <td>36.2</td>\n",
       "    </tr>\n",
       "  </tbody>\n",
       "</table>\n",
       "</div>"
      ],
      "text/plain": [
       "   target\n",
       "0    24.0\n",
       "1    21.6\n",
       "2    34.7\n",
       "3    33.4\n",
       "4    36.2"
      ]
     },
     "execution_count": 5,
     "metadata": {
      "tags": []
     },
     "output_type": "execute_result"
    }
   ],
   "source": [
    "target=pd.DataFrame(boston.target,columns=['target'])\n",
    "target.head()"
   ]
  },
  {
   "cell_type": "code",
   "execution_count": 6,
   "metadata": {
    "colab": {
     "base_uri": "https://localhost:8080/",
     "height": 35
    },
    "colab_type": "code",
    "id": "-etFeyPUr5wR",
    "outputId": "cfdb94f6-53df-4b1f-947c-f9b0d3474e48"
   },
   "outputs": [
    {
     "data": {
      "text/plain": [
       "50.0"
      ]
     },
     "execution_count": 6,
     "metadata": {
      "tags": []
     },
     "output_type": "execute_result"
    }
   ],
   "source": [
    "max(target['target'])"
   ]
  },
  {
   "cell_type": "markdown",
   "metadata": {
    "colab_type": "text",
    "id": "0ZL_3JRq90Ur"
   },
   "source": [
    "# Joining boston data and target values"
   ]
  },
  {
   "cell_type": "code",
   "execution_count": 7,
   "metadata": {
    "colab": {
     "base_uri": "https://localhost:8080/",
     "height": 202
    },
    "colab_type": "code",
    "id": "_1W-sNAEr-kd",
    "outputId": "8ccbce8b-88ab-4d68-d935-a923687714b3"
   },
   "outputs": [
    {
     "data": {
      "text/html": [
       "<div>\n",
       "<style scoped>\n",
       "    .dataframe tbody tr th:only-of-type {\n",
       "        vertical-align: middle;\n",
       "    }\n",
       "\n",
       "    .dataframe tbody tr th {\n",
       "        vertical-align: top;\n",
       "    }\n",
       "\n",
       "    .dataframe thead th {\n",
       "        text-align: right;\n",
       "    }\n",
       "</style>\n",
       "<table border=\"1\" class=\"dataframe\">\n",
       "  <thead>\n",
       "    <tr style=\"text-align: right;\">\n",
       "      <th></th>\n",
       "      <th>CRIM</th>\n",
       "      <th>ZN</th>\n",
       "      <th>INDUS</th>\n",
       "      <th>CHAS</th>\n",
       "      <th>NOX</th>\n",
       "      <th>RM</th>\n",
       "      <th>AGE</th>\n",
       "      <th>DIS</th>\n",
       "      <th>RAD</th>\n",
       "      <th>TAX</th>\n",
       "      <th>PTRATIO</th>\n",
       "      <th>B</th>\n",
       "      <th>LSTAT</th>\n",
       "      <th>target</th>\n",
       "    </tr>\n",
       "  </thead>\n",
       "  <tbody>\n",
       "    <tr>\n",
       "      <th>0</th>\n",
       "      <td>0.00632</td>\n",
       "      <td>18.0</td>\n",
       "      <td>2.31</td>\n",
       "      <td>0.0</td>\n",
       "      <td>0.538</td>\n",
       "      <td>6.575</td>\n",
       "      <td>65.2</td>\n",
       "      <td>4.0900</td>\n",
       "      <td>1.0</td>\n",
       "      <td>296.0</td>\n",
       "      <td>15.3</td>\n",
       "      <td>396.90</td>\n",
       "      <td>4.98</td>\n",
       "      <td>24.0</td>\n",
       "    </tr>\n",
       "    <tr>\n",
       "      <th>1</th>\n",
       "      <td>0.02731</td>\n",
       "      <td>0.0</td>\n",
       "      <td>7.07</td>\n",
       "      <td>0.0</td>\n",
       "      <td>0.469</td>\n",
       "      <td>6.421</td>\n",
       "      <td>78.9</td>\n",
       "      <td>4.9671</td>\n",
       "      <td>2.0</td>\n",
       "      <td>242.0</td>\n",
       "      <td>17.8</td>\n",
       "      <td>396.90</td>\n",
       "      <td>9.14</td>\n",
       "      <td>21.6</td>\n",
       "    </tr>\n",
       "    <tr>\n",
       "      <th>2</th>\n",
       "      <td>0.02729</td>\n",
       "      <td>0.0</td>\n",
       "      <td>7.07</td>\n",
       "      <td>0.0</td>\n",
       "      <td>0.469</td>\n",
       "      <td>7.185</td>\n",
       "      <td>61.1</td>\n",
       "      <td>4.9671</td>\n",
       "      <td>2.0</td>\n",
       "      <td>242.0</td>\n",
       "      <td>17.8</td>\n",
       "      <td>392.83</td>\n",
       "      <td>4.03</td>\n",
       "      <td>34.7</td>\n",
       "    </tr>\n",
       "    <tr>\n",
       "      <th>3</th>\n",
       "      <td>0.03237</td>\n",
       "      <td>0.0</td>\n",
       "      <td>2.18</td>\n",
       "      <td>0.0</td>\n",
       "      <td>0.458</td>\n",
       "      <td>6.998</td>\n",
       "      <td>45.8</td>\n",
       "      <td>6.0622</td>\n",
       "      <td>3.0</td>\n",
       "      <td>222.0</td>\n",
       "      <td>18.7</td>\n",
       "      <td>394.63</td>\n",
       "      <td>2.94</td>\n",
       "      <td>33.4</td>\n",
       "    </tr>\n",
       "    <tr>\n",
       "      <th>4</th>\n",
       "      <td>0.06905</td>\n",
       "      <td>0.0</td>\n",
       "      <td>2.18</td>\n",
       "      <td>0.0</td>\n",
       "      <td>0.458</td>\n",
       "      <td>7.147</td>\n",
       "      <td>54.2</td>\n",
       "      <td>6.0622</td>\n",
       "      <td>3.0</td>\n",
       "      <td>222.0</td>\n",
       "      <td>18.7</td>\n",
       "      <td>396.90</td>\n",
       "      <td>5.33</td>\n",
       "      <td>36.2</td>\n",
       "    </tr>\n",
       "  </tbody>\n",
       "</table>\n",
       "</div>"
      ],
      "text/plain": [
       "      CRIM    ZN  INDUS  CHAS    NOX  ...    TAX  PTRATIO       B  LSTAT  target\n",
       "0  0.00632  18.0   2.31   0.0  0.538  ...  296.0     15.3  396.90   4.98    24.0\n",
       "1  0.02731   0.0   7.07   0.0  0.469  ...  242.0     17.8  396.90   9.14    21.6\n",
       "2  0.02729   0.0   7.07   0.0  0.469  ...  242.0     17.8  392.83   4.03    34.7\n",
       "3  0.03237   0.0   2.18   0.0  0.458  ...  222.0     18.7  394.63   2.94    33.4\n",
       "4  0.06905   0.0   2.18   0.0  0.458  ...  222.0     18.7  396.90   5.33    36.2\n",
       "\n",
       "[5 rows x 14 columns]"
      ]
     },
     "execution_count": 7,
     "metadata": {
      "tags": []
     },
     "output_type": "execute_result"
    }
   ],
   "source": [
    "df=pd.concat([features,target],axis=1)\n",
    "df.head()"
   ]
  },
  {
   "cell_type": "markdown",
   "metadata": {
    "colab_type": "text",
    "id": "9nTAJFJL-B62"
   },
   "source": [
    "# Analysing all the data using describe() method\n",
    "Pandas describe() is used to view some basic statistical details like percentile, mean, std etc. of a data frame or a series of numeric values. "
   ]
  },
  {
   "cell_type": "code",
   "execution_count": 8,
   "metadata": {
    "colab": {
     "base_uri": "https://localhost:8080/",
     "height": 294
    },
    "colab_type": "code",
    "id": "6hAqHSPasJbh",
    "outputId": "09a57b27-1595-47b9-acf9-426b9e0a2627"
   },
   "outputs": [
    {
     "data": {
      "text/html": [
       "<div>\n",
       "<style scoped>\n",
       "    .dataframe tbody tr th:only-of-type {\n",
       "        vertical-align: middle;\n",
       "    }\n",
       "\n",
       "    .dataframe tbody tr th {\n",
       "        vertical-align: top;\n",
       "    }\n",
       "\n",
       "    .dataframe thead th {\n",
       "        text-align: right;\n",
       "    }\n",
       "</style>\n",
       "<table border=\"1\" class=\"dataframe\">\n",
       "  <thead>\n",
       "    <tr style=\"text-align: right;\">\n",
       "      <th></th>\n",
       "      <th>CRIM</th>\n",
       "      <th>ZN</th>\n",
       "      <th>INDUS</th>\n",
       "      <th>CHAS</th>\n",
       "      <th>NOX</th>\n",
       "      <th>RM</th>\n",
       "      <th>AGE</th>\n",
       "      <th>DIS</th>\n",
       "      <th>RAD</th>\n",
       "      <th>TAX</th>\n",
       "      <th>PTRATIO</th>\n",
       "      <th>B</th>\n",
       "      <th>LSTAT</th>\n",
       "      <th>target</th>\n",
       "    </tr>\n",
       "  </thead>\n",
       "  <tbody>\n",
       "    <tr>\n",
       "      <th>count</th>\n",
       "      <td>506.000000</td>\n",
       "      <td>506.000000</td>\n",
       "      <td>506.000000</td>\n",
       "      <td>506.000000</td>\n",
       "      <td>506.000000</td>\n",
       "      <td>506.000000</td>\n",
       "      <td>506.000000</td>\n",
       "      <td>506.000000</td>\n",
       "      <td>506.000000</td>\n",
       "      <td>506.000000</td>\n",
       "      <td>506.000000</td>\n",
       "      <td>506.000000</td>\n",
       "      <td>506.000000</td>\n",
       "      <td>506.000000</td>\n",
       "    </tr>\n",
       "    <tr>\n",
       "      <th>mean</th>\n",
       "      <td>3.613524</td>\n",
       "      <td>11.363636</td>\n",
       "      <td>11.136779</td>\n",
       "      <td>0.069170</td>\n",
       "      <td>0.554695</td>\n",
       "      <td>6.284634</td>\n",
       "      <td>68.574901</td>\n",
       "      <td>3.795043</td>\n",
       "      <td>9.549407</td>\n",
       "      <td>408.237154</td>\n",
       "      <td>18.455534</td>\n",
       "      <td>356.674032</td>\n",
       "      <td>12.653063</td>\n",
       "      <td>22.532806</td>\n",
       "    </tr>\n",
       "    <tr>\n",
       "      <th>std</th>\n",
       "      <td>8.601545</td>\n",
       "      <td>23.322453</td>\n",
       "      <td>6.860353</td>\n",
       "      <td>0.253994</td>\n",
       "      <td>0.115878</td>\n",
       "      <td>0.702617</td>\n",
       "      <td>28.148861</td>\n",
       "      <td>2.105710</td>\n",
       "      <td>8.707259</td>\n",
       "      <td>168.537116</td>\n",
       "      <td>2.164946</td>\n",
       "      <td>91.294864</td>\n",
       "      <td>7.141062</td>\n",
       "      <td>9.197104</td>\n",
       "    </tr>\n",
       "    <tr>\n",
       "      <th>min</th>\n",
       "      <td>0.006320</td>\n",
       "      <td>0.000000</td>\n",
       "      <td>0.460000</td>\n",
       "      <td>0.000000</td>\n",
       "      <td>0.385000</td>\n",
       "      <td>3.561000</td>\n",
       "      <td>2.900000</td>\n",
       "      <td>1.129600</td>\n",
       "      <td>1.000000</td>\n",
       "      <td>187.000000</td>\n",
       "      <td>12.600000</td>\n",
       "      <td>0.320000</td>\n",
       "      <td>1.730000</td>\n",
       "      <td>5.000000</td>\n",
       "    </tr>\n",
       "    <tr>\n",
       "      <th>25%</th>\n",
       "      <td>0.082045</td>\n",
       "      <td>0.000000</td>\n",
       "      <td>5.190000</td>\n",
       "      <td>0.000000</td>\n",
       "      <td>0.449000</td>\n",
       "      <td>5.885500</td>\n",
       "      <td>45.025000</td>\n",
       "      <td>2.100175</td>\n",
       "      <td>4.000000</td>\n",
       "      <td>279.000000</td>\n",
       "      <td>17.400000</td>\n",
       "      <td>375.377500</td>\n",
       "      <td>6.950000</td>\n",
       "      <td>17.025000</td>\n",
       "    </tr>\n",
       "    <tr>\n",
       "      <th>50%</th>\n",
       "      <td>0.256510</td>\n",
       "      <td>0.000000</td>\n",
       "      <td>9.690000</td>\n",
       "      <td>0.000000</td>\n",
       "      <td>0.538000</td>\n",
       "      <td>6.208500</td>\n",
       "      <td>77.500000</td>\n",
       "      <td>3.207450</td>\n",
       "      <td>5.000000</td>\n",
       "      <td>330.000000</td>\n",
       "      <td>19.050000</td>\n",
       "      <td>391.440000</td>\n",
       "      <td>11.360000</td>\n",
       "      <td>21.200000</td>\n",
       "    </tr>\n",
       "    <tr>\n",
       "      <th>75%</th>\n",
       "      <td>3.677083</td>\n",
       "      <td>12.500000</td>\n",
       "      <td>18.100000</td>\n",
       "      <td>0.000000</td>\n",
       "      <td>0.624000</td>\n",
       "      <td>6.623500</td>\n",
       "      <td>94.075000</td>\n",
       "      <td>5.188425</td>\n",
       "      <td>24.000000</td>\n",
       "      <td>666.000000</td>\n",
       "      <td>20.200000</td>\n",
       "      <td>396.225000</td>\n",
       "      <td>16.955000</td>\n",
       "      <td>25.000000</td>\n",
       "    </tr>\n",
       "    <tr>\n",
       "      <th>max</th>\n",
       "      <td>88.976200</td>\n",
       "      <td>100.000000</td>\n",
       "      <td>27.740000</td>\n",
       "      <td>1.000000</td>\n",
       "      <td>0.871000</td>\n",
       "      <td>8.780000</td>\n",
       "      <td>100.000000</td>\n",
       "      <td>12.126500</td>\n",
       "      <td>24.000000</td>\n",
       "      <td>711.000000</td>\n",
       "      <td>22.000000</td>\n",
       "      <td>396.900000</td>\n",
       "      <td>37.970000</td>\n",
       "      <td>50.000000</td>\n",
       "    </tr>\n",
       "  </tbody>\n",
       "</table>\n",
       "</div>"
      ],
      "text/plain": [
       "             CRIM          ZN       INDUS  ...           B       LSTAT      target\n",
       "count  506.000000  506.000000  506.000000  ...  506.000000  506.000000  506.000000\n",
       "mean     3.613524   11.363636   11.136779  ...  356.674032   12.653063   22.532806\n",
       "std      8.601545   23.322453    6.860353  ...   91.294864    7.141062    9.197104\n",
       "min      0.006320    0.000000    0.460000  ...    0.320000    1.730000    5.000000\n",
       "25%      0.082045    0.000000    5.190000  ...  375.377500    6.950000   17.025000\n",
       "50%      0.256510    0.000000    9.690000  ...  391.440000   11.360000   21.200000\n",
       "75%      3.677083   12.500000   18.100000  ...  396.225000   16.955000   25.000000\n",
       "max     88.976200  100.000000   27.740000  ...  396.900000   37.970000   50.000000\n",
       "\n",
       "[8 rows x 14 columns]"
      ]
     },
     "execution_count": 8,
     "metadata": {
      "tags": []
     },
     "output_type": "execute_result"
    }
   ],
   "source": [
    "df.describe()"
   ]
  },
  {
   "cell_type": "markdown",
   "metadata": {
    "colab_type": "text",
    "id": "C5Srd3Ad-jDz"
   },
   "source": [
    "# Finding the most suitable variable to create linear regression model.\n",
    "\n"
   ]
  },
  {
   "cell_type": "code",
   "execution_count": 9,
   "metadata": {
    "colab": {
     "base_uri": "https://localhost:8080/",
     "height": 334
    },
    "colab_type": "code",
    "id": "1ApJM166thgj",
    "outputId": "c274e8df-8cfa-4eca-cf02-1d7c8e8529f6"
   },
   "outputs": [
    {
     "data": {
      "image/png": "[encoded data removed]",
      "text/plain": [
       "<Figure size 1080x360 with 1 Axes>"
      ]
     },
     "metadata": {
      "needs_background": "light",
      "tags": []
     },
     "output_type": "display_data"
    }
   ],
   "source": [
    "corr=df.corr('pearson')\n",
    "\n",
    "corrs=[abs(corr[attr]['target']) for attr in list(features)]\n",
    "\n",
    "\n",
    "l=list(zip(corrs,list(features)))\n",
    "l.sort(key=lambda x:x[0],reverse=True)\n",
    "\n",
    "corrs,labels=list(zip(*(l)))\n",
    "\n",
    "index=np.arange(len(labels))\n",
    "plt.figure(figsize=(15,5))\n",
    "plt.bar(index,corrs,width=0.5)\n",
    "plt.xlabel('Attributes')\n",
    "plt.ylabel(\"corr with target var\")\n",
    "plt.xticks(index,labels)\n",
    "plt.show()\n"
   ]
  },
  {
   "cell_type": "markdown",
   "metadata": {
    "colab_type": "text",
    "id": "LIQszavIFuF9"
   },
   "source": [
    "# The variable with most correlation value is chosen."
   ]
  },
  {
   "cell_type": "code",
   "execution_count": 10,
   "metadata": {
    "colab": {
     "base_uri": "https://localhost:8080/",
     "height": 35
    },
    "colab_type": "code",
    "id": "xIXgTiTSuVQZ",
    "outputId": "7cdaedad-d209-4dbb-882c-8ad26f8c1d6b"
   },
   "outputs": [
    {
     "data": {
      "text/plain": [
       "array([24. , 21.6, 34.7, 33.4, 36.2])"
      ]
     },
     "execution_count": 10,
     "metadata": {
      "tags": []
     },
     "output_type": "execute_result"
    }
   ],
   "source": [
    "X=df['LSTAT'].values\n",
    "Y=df['target'].values\n",
    "Y[:5]"
   ]
  },
  {
   "cell_type": "markdown",
   "metadata": {
    "colab_type": "text",
    "id": "tfi7tdp2_AFs"
   },
   "source": [
    "# Scaling the values so that relation between them could be found."
   ]
  },
  {
   "cell_type": "code",
   "execution_count": 11,
   "metadata": {
    "colab": {
     "base_uri": "https://localhost:8080/",
     "height": 35
    },
    "colab_type": "code",
    "id": "K-CtPNlpwPkH",
    "outputId": "9d20e549-c415-4f4e-e2f5-fe076ade710a"
   },
   "outputs": [
    {
     "data": {
      "text/plain": [
       "array([0.42222222, 0.36888889, 0.66      , 0.63111111, 0.69333333])"
      ]
     },
     "execution_count": 11,
     "metadata": {
      "tags": []
     },
     "output_type": "execute_result"
    }
   ],
   "source": [
    "x_scalar=MinMaxScaler()\n",
    "X=x_scalar.fit_transform(X.reshape(-1,1))\n",
    "X=X[:,-1]\n",
    "y_scalar=MinMaxScaler()\n",
    "Y=y_scalar.fit_transform(Y.reshape(-1,1))\n",
    "Y=Y[:,-1]\n",
    "\n",
    "Y[:5]"
   ]
  },
  {
   "cell_type": "code",
   "execution_count": 0,
   "metadata": {
    "colab": {},
    "colab_type": "code",
    "id": "bFGf8xfRw2Zt"
   },
   "outputs": [],
   "source": [
    "def error (m,x,c,t):\n",
    "  N=len(x)\n",
    "  e=sum(((m*x+c)-t)**2)\n",
    "  return e*1/(2*N)"
   ]
  },
  {
   "cell_type": "markdown",
   "metadata": {
    "colab_type": "text",
    "id": "Oa2W8rpR_Ovk"
   },
   "source": [
    "# Splitting the data into testing and training sets."
   ]
  },
  {
   "cell_type": "code",
   "execution_count": 0,
   "metadata": {
    "colab": {},
    "colab_type": "code",
    "id": "uvOiuwcc6v2W"
   },
   "outputs": [],
   "source": [
    "xtrain,xtest,ytrain,ytest=train_test_split(X,Y,test_size=0.2)"
   ]
  },
  {
   "cell_type": "code",
   "execution_count": 0,
   "metadata": {
    "colab": {},
    "colab_type": "code",
    "id": "NrWF5Z7H7JoL"
   },
   "outputs": [],
   "source": [
    "def update (m,x,c,t,learning_rate):\n",
    "  grad_m=sum(2*((m*x+c)-t)*x)\n",
    "  grad_c=sum(2*((m*x+c)-t))\n",
    "  m=m-grad_m*learning_rate\n",
    "  c=c-grad_c*learning_rate\n",
    "  return m,c"
   ]
  },
  {
   "cell_type": "code",
   "execution_count": 0,
   "metadata": {
    "colab": {},
    "colab_type": "code",
    "id": "4jgWcuRcFv07"
   },
   "outputs": [],
   "source": [
    "def gradient_descent(init_m,init_c,x,t,learning_rate,iterations,error_threshold):\n",
    "  m=init_m\n",
    "  c=init_c\n",
    "  error_values=list()\n",
    "  mc_values=list()\n",
    "  for i in range(iterations):\n",
    "    e=error(m,x,c,t)\n",
    "    if e<error_threshold:\n",
    "      print('error')\n",
    "      break\n",
    "    error_values.append(e)\n",
    "    m,c=update(m,x,c,t,learning_rate)\n",
    "    mc_values.append((m,c))\n",
    "  return m,c,error_values,mc_values"
   ]
  },
  {
   "cell_type": "markdown",
   "metadata": {
    "colab_type": "text",
    "id": "vNGKdRe1_Z7g"
   },
   "source": [
    "calling gradient descent function."
   ]
  },
  {
   "cell_type": "code",
   "execution_count": 36,
   "metadata": {
    "colab": {
     "base_uri": "https://localhost:8080/",
     "height": 69
    },
    "colab_type": "code",
    "id": "urLuqIF3Gnn9",
    "outputId": "5708ce8f-a030-444f-cfec-0474e4ad1c7a"
   },
   "outputs": [
    {
     "name": "stdout",
     "output_type": "stream",
     "text": [
      "404\n",
      "CPU times: user 68.6 ms, sys: 0 ns, total: 68.6 ms\n",
      "Wall time: 68.6 ms\n"
     ]
    }
   ],
   "source": [
    "%%time\n",
    "print(len(xtrain))\n",
    "init_m=0.9\n",
    "init_c=0\n",
    "learning_rate=0.001\n",
    "iterations=250\n",
    "error_threshold=0.001\n",
    "\n",
    "m,c,error_values,mc_values=gradient_descent(init_m,init_c,xtrain,ytrain,learning_rate,iterations,error_threshold)\n",
    "\n"
   ]
  },
  {
   "cell_type": "markdown",
   "metadata": {
    "colab_type": "text",
    "id": "ui8ZLpQs_gxQ"
   },
   "source": [
    "As there are 250 iterations which generates 250 values ,it is difficult to plot all the values so only 50 of them are chosen."
   ]
  },
  {
   "cell_type": "code",
   "execution_count": 37,
   "metadata": {
    "colab": {
     "base_uri": "https://localhost:8080/",
     "height": 55
    },
    "colab_type": "code",
    "id": "3lIQlnMmHTWh",
    "outputId": "451a954e-b496-4ca9-99c1-ff8924c60467"
   },
   "outputs": [
    {
     "name": "stdout",
     "output_type": "stream",
     "text": [
      "[(0.8750521659614914, 0.09442809786607799), (0.650778754872888, 0.1761431517323147), (0.45473366433427337, 0.2377204943045984), (0.28579122282258956, 0.29078475605242615), (0.1402046184520445, 0.336513026648584), (0.014744969696384346, 0.3759194870987218), (-0.09337022080446751, 0.4098781106146251), (-0.1865387776509821, 0.43914204596740875), (-0.26682703265612706, 0.46436032114074877), (-0.33601565282967577, 0.4860922377490801), (-0.39563913276721885, 0.5048197754662808), (-0.44701982732284873, 0.5209582815755265), (-0.49129727935658385, 0.5348656827176927), (-0.5294534929997663, 0.5468504231403718), (-0.5623347129596441, 0.5571783055053601), (-0.5906701928938028, 0.5660783859729512), (-0.6150883691074231, 0.5737480543067159), (-0.6361307982804908, 0.5803574116674897), (-0.6542641683417891, 0.5860530431891428), (-0.6698906488719386, 0.5909612690059188), (-0.6833568105911165, 0.5951909458340073), (-0.694961311751642, 0.5988358812420159), (-0.7049615219075067, 0.6019769141550574), (-0.7135792299656212, 0.6046837077347549), (-0.7210055631143638, 0.6070162943984193), (-0.7274052257235172, 0.6090264072434901), (-0.7329201522277139, 0.6107586274061362), (-0.7376726550085931, 0.6122513728006225), (-0.7417681370907349, 0.6135377501681256), (-0.745297429814692, 0.6146462893320956), (-0.7483388073330288, 0.6156015759447953), (-0.7509597226077112, 0.6164247967583341), (-0.7532183034105376, 0.6171342095134531), (-0.7551646415055431, 0.617745547867451), (-0.7568419036054107, 0.6182723703419157), (-0.7582872887411543, 0.6187263610293744), (-0.7595328532780227, 0.619117588728057), (-0.7606062218751795, 0.6194547302519795), (-0.7615312001571228, 0.6197452628690095), (-0.7623283026849341, 0.6199956301348869), (-0.7630152079369237, 0.6202113848011401), (-0.7636071503894292, 0.6203973119663663), (-0.7641172583934999, 0.6205575352021803), (-0.7645568453410413, 0.6206956080075363), (-0.7649356605780238, 0.6208145926197374), (-0.7652621056296176, 0.6209171279300332), (-0.7655434205327851, 0.6210054880100722), (-0.7657858444088946, 0.6210816325472267), (-0.7659947538376033, 0.621147250307373), (-0.7661747821009237, 0.6212037965890563)]\n"
     ]
    }
   ],
   "source": [
    "mc_values_anim=mc_values[0:250:5]\n",
    "print(mc_values_anim)"
   ]
  },
  {
   "cell_type": "markdown",
   "metadata": {
    "colab_type": "text",
    "id": "mv3zvD7p_0lW"
   },
   "source": [
    "# Plotting the values along with the linear regression line."
   ]
  },
  {
   "cell_type": "code",
   "execution_count": 38,
   "metadata": {
    "colab": {
     "base_uri": "https://localhost:8080/",
     "height": 561
    },
    "colab_type": "code",
    "id": "E50wekVZIpWD",
    "outputId": "096fc494-b5c0-439e-8656-49a6d99f843f"
   },
   "outputs": [
    {
     "data": {
      "text/html": [
       "<video width=\"432\" height=\"288\" controls autoplay loop>\n",
       "  <source type=\"video/mp4\" src=\"data:video/mp4;base64,AAAAHGZ0eXBNNFYgAAACAGlzb21pc28yYXZjMQAAAAhmcmVlAACbvW1kYXQAAAKtBgX//6ncRem9\n",
       "5tlIt5Ys2CDZI+7veDI2NCAtIGNvcmUgMTUyIHIyODU0IGU5YTU5MDMgLSBILjI2NC9NUEVHLTQg\n",
       "QVZDIGNvZGVjIC0gQ29weWxlZnQgMjAwMy0yMDE3IC0gaHR0cDovL3d3dy52aWRlb2xhbi5vcmcv\n",
       "eDI2NC5odG1sIC0gb3B0aW9uczogY2FiYWM9MSByZWY9MyBkZWJsb2NrPTE6MDowIGFuYWx5c2U9\n",
       "MHgzOjB4MTEzIG1lPWhleCBzdWJtZT03IHBzeT0xIHBzeV9yZD0xLjAwOjAuMDAgbWl4ZWRfcmVm\n",
       "PTEgbWVfcmFuZ2U9MTYgY2hyb21hX21lPTEgdHJlbGxpcz0xIDh4OGRjdD0xIGNxbT0wIGRlYWR6\n",
       "b25lPTIxLDExIGZhc3RfcHNraXA9MSBjaHJvbWFfcXBfb2Zmc2V0PS0yIHRocmVhZHM9MyBsb29r\n",
       "YWhlYWRfdGhyZWFkcz0xIHNsaWNlZF90aHJlYWRzPTAgbnI9MCBkZWNpbWF0ZT0xIGludGVybGFj\n",
       "ZWQ9MCBibHVyYXlfY29tcGF0PTAgY29uc3RyYWluZWRfaW50cmE9MCBiZnJhbWVzPTMgYl9weXJh\n",
       "bWlkPTIgYl9hZGFwdD0xIGJfYmlhcz0wIGRpcmVjdD0xIHdlaWdodGI9MSBvcGVuX2dvcD0wIHdl\n",
       "aWdodHA9MiBrZXlpbnQ9MjUwIGtleWludF9taW49NSBzY2VuZWN1dD00MCBpbnRyYV9yZWZyZXNo\n",
       "PTAgcmNfbG9va2FoZWFkPTQwIHJjPWNyZiBtYnRyZWU9MSBjcmY9MjMuMCBxY29tcD0wLjYwIHFw\n",
       "bWluPTAgcXBtYXg9NjkgcXBzdGVwPTQgaXBfcmF0aW89MS40MCBhcT0xOjEuMDAAgAAALANliIQA\n",
       "E//+97GPgU3IAA2XOop6H+EVsfSQUXqx2aBk6gAAAwAAiYH638JRwsQHwht3BudId0Uq2fQAIbty\n",
       "qmwF8gX0LLzk2vyiTGtHdrlUU0pvR9E1IWLAAGdLElzm0F+YKb0MJhE+T2NumtX7TTF8pigVhe0e\n",
       "r977kTqG3rWhSuI4WldWhyiZMW2mxwklk9u21aQfI9h6ATTXzRwEwGZa3zZxtFyLCSx6LKotsfAE\n",
       "GgboxzYNWVX1GVeOSduJf1t2v3BWpVmrD7xDTSgKSPVJnZ8PuNTuK07QUl/f1Niy6GQvVnwU/YkD\n",
       "AtwQ75xFxMXbi+qtZE/MbRVYymiomnjc0oQLPB7qgeSqDDr2bORsCStXqqUKX+ByMZR4Bi2jORM+\n",
       "5Jgx1KNYABxDWiwGR6YisBry+bsOlBRr+lP5+VQ2Vj0Faa68OqgqZVmkrG1+bN7e6tLBym2UhAqD\n",
       "RqXhIZrutv5pNPjpJHFc42lUI0LKuOO42mHduri2o84DHWJV2kJrCltGedANihPs/EdLqGemW05A\n",
       "03GDv2F2fveCLW4b6b5+9Yw+G5GCqvUOS+bnRJTFxUGT6Ia4w5mGXuVUHSJijg4I9MuUPcOONypU\n",
       "XCEiTsP1rxr3B/K3kmCcN9Ozatt/pB6W6lJMamW+CA6nYrmsfCf0RbjDfo4jVVTz+MQCzI/e5LIu\n",
       "66A1W7JX7gELXMC+l2/upSJxyD1YKoaAt6vxJpj8JSK6FdZAofeduIkoVWCTey2/DXt4FWsS0Wgw\n",
       "CKUtIHnr5kL3Wy1W8upbDaUk7/K8vRSkjE7z/HhbB53ZBL86gOBsann37wwS7WxzfWt1zKnB2hPK\n",
       "sQIhVKyPN9vgorAxWzMvNM1f2GMQ62zeSsPuKjeHbhFXoyp5KL/GO9aGoSWZrhBy01cXD18vsuQo\n",
       "UAH+l//otRSQa46Xr7Jsr04TWpwGtPzzWe5dCiyv7TH2pPuVRPtTRs5cynS2f66+U+ZaoG+jWzSc\n",
       "vJYiO6X8bUlAFJBCFMXAdrJQcp7QEXYqm3tcommr10dTtAMTuvRj3nsXA7fX0g4NVg5Rt26kuCb4\n",
       "twwemyqeDpwYeBJLNBg3os0K9VMuIdKwGKpT3KFMalVZCSOmVWUt29NB25RLG5y7yneuhGooCm46\n",
       "jJZl+0BdIQKBW75F6piQDcqBWbS7EYSIbeIWzdQI8VApqHYsxfjNhPmRLBii4+FqymyNvA7e62ry\n",
       "POYx7+4tjjx0tfz5skEswWUbcgXlAZnLk/hbxYgf0YD2xWFlgDIhrb/sSWpd5YDC9yRql4Q0HdNC\n",
       "6Y/VhckHF1x8LS/uR0E148ySOOQ66tK7UAdbiTQ1h4uuSaG9bgHnnViAIkIVb+qzTStOWETqXQG6\n",
       "7Mm0X0kxeJbltI72SIQw8LFzw1ECAN+kgpYiVYg0WKA8n11BNStBNmCew8lTjhWL3bEc7JAUCRDA\n",
       "6Rva6ICVu/x32y+iMONLwJA45R4ZyPgSGJTBSr+YMx9N4fP9szooz0DL3hxBF5T/3LWhu0F1c3Lo\n",
       "qhbaX1vH03pZuMhoe6vE2ORHxZYkvnUckBLcdxJoNlE4JuT3VLOjirvJgYEaUimIfB79IqHrD7vJ\n",
       "B5pA4Hid6/vuNs9CCIke1ccai+0Xc+BpEn0EijJ1JhHCzgwbHDwwT4YP99MP42qM7bjKl/fBd/9D\n",
       "bfaoZNUYAF0AFsBAqVbcEq8Xa7PICHkFVBRbL8lT7BsR7FU1auGA4CGziC4wC2TgKbOC2Zw3b111\n",
       "Y99ofGw80QB3EVbD2Jge+wmRGIiLxQDkC99NBWEaxRP7VpMuXUGpOfifTWW4bHPyW1P4lEFTk+6M\n",
       "da+7ZWIzN6yJ3pNX2dRkIPcajPu2Fgb0lURKGQG6Tl/Ii0YgbUl9ve6d2/9D1xZ8KteDJahTEU0G\n",
       "I0movNGX/KI5GMTiv9QESjQYslvK6va/Ex34q/3A9UiLYdyREWVXQAjw/jXUjENMlhUopwaa525N\n",
       "oX7icF/MljcqWlZ+Du6y7Ochgh5tJcGC41E6E8CStBaSmZVrSfYPlztA18otVRkkh46Uu75aRESg\n",
       "TYDp0K2bP7x0ttc9AVV72CWCkTGiEbO1KczPugxIvq5jby8WsmpvFq+AZqcOLyA4q/Ehmo4OIlze\n",
       "XG2+Lx75k9afXlBb5OcsVSltdasF9q1Z7ifCtCQrsQwQmjGpTPgspxGHLmOmuDMzj/Ai1FjEk3pA\n",
       "q0ggiuOh56th+X5/h6a+Z+hnhd5vb8VxWsEwH2EfvYjrEFR6kfqoCr7NVnUz58/EeZVK72KgPcQr\n",
       "eCUgyiuj6inbnJ0A2wRN9b+WPHyGxfrWBNQjf6HQK738Gs7CdnbDTfKAcxSbfu8NgZOcqBtCVHbA\n",
       "PEV/sB2m7bPATz5gXOxNV/O3xHaZ7+F/vm5zZXHO/aJH17/KtvxY7u0IAGNnEUbfkpsF8SfN6atN\n",
       "NrtPv50iAejUF/hYLQ7GK8hbiY83UzP3i2U6hRoJef4bEhvM0zlUfGvdIAz+Ml/oWNunFXIznwbA\n",
       "gfFbK8S/4QeUs1ejMxgXX+56PxqpFByFfRow7QUelLFO1lxCpEwecTyVnSwxON6A+/B6zpjB7ZQw\n",
       "fVjusazMU1aLZvsINCvTiOUplGrw33Xd+gbuKuQlo0dq63hF218mrtfHmAI39VvJSspUxkgkivMk\n",
       "J4M4twlgSgdF3LreL0udAibXVWTIm+RqjHH4l+fmfuduZR27rdbZ7qpia+axmaavvpS+UBHCjRsU\n",
       "czTWx1GDfiItDYH+WgApwx5JmtCZbruhNsGAn8wIdCExW5VrTKYPUNDVBINoRjg567/aLVhHEjSq\n",
       "7K/hnF9FvVxvgU0Zj6EwTJbzyd4eCyiAdn3Mrzp5x9/nMlPIp6LYYvnU/alEWQYJsqVKEegCmnFz\n",
       "l4tstPq2mCP7gsICJI9BiW8qCDW34XtaloS5/a/DoA8sLvi73Q+np8e7/ezzojdjEARPOfioYQ+M\n",
       "OrtrAvJhvWN3ABipHQPYXJC8y+ZTC93l8HIXFbcvKLlITz7XgtOIPK8Hd6Z7x9D5S89+StZMfu2b\n",
       "vCPWZP1oCzcAvwdQD4pdz+XjqurDE1SCkUDPzzwZZ/wH95rJkipBu2JRYmDUKQIb6ul6ZobB1DU7\n",
       "b74vEl6f+HwhWbdJfoqyuFBX6zdKFri4sNeq5kEDZgaFe2NcMu8XEZ3GwGssQn8hs0hJqVOGsnOe\n",
       "baHaGd/7Cok+rvhaqpkbh6jumZViPS2m4gAjaMQO8acADMaWZEweHirKny/wQrVMFVvMMjwiPfe/\n",
       "UedYKpGqB3PempyTlY8MVNkq0OcGWFw/1i/r9FXe5qYrWUbwfI9Tgz8jk/4uKKeoMa39I0WcRsQq\n",
       "QKIEsQMCs/PsU+tmzE1IDspA2tvZkeuFFPV/AH3xPOaRcBdIRrMQfTkm0Il35+i1vot5plLhqCtM\n",
       "RcyNVFUu/axr5klLirc/QDzG/wCPE1sJ4PwpY5dKAWll4ro2jWtjtzOYRL4H4aViDzMC/0QdLG6p\n",
       "P/fEjm2NzMkZEmZ/87MuC1AWfhc/FocAlPMcPZN/i/3mLlOtKpdGfb6AdOjD3EyWm2ezD7tT7Frm\n",
       "mEuNZ0o7JUy1Ub5jPa4lJJmovfGYj7Xo4bbweXRCUz9igIVYtT9iKS8Y4RJw5nqvW1zEdLdkoyjE\n",
       "jom7TK4IsxW7EQo0iWoEDbNRQZeycrhZKNgHr/EXCCtjVFBarD1Cpgneu16vR18GP7x7hgq4wX6B\n",
       "iWy8EmoEMyvKPGBe03Foj1cblSh7xJgz2F6iN3RTpGxh5/5TD0EfoVM2/uSmULqc8QTj6BvHF1B4\n",
       "VfbvFjpjk5A8iTYtcMsqv/G4eOOmWYXkAfcGhujoBo5Lolr7u16FaP7PZptFzAZkG+7m4ZeV/lDp\n",
       "ChE0BPkVmbfuiktm5MmqNj+Mt/RaBlil7M1yxdomSebUO+v/LQKie/VTfNfG0YNe7F4WREZcERoJ\n",
       "DsfDd+/At4npx6EvcdUNTjAcLgjxcpZCVke3SbmG+keY+VS1i6OWWeLeAHiglCbdAwZwqJTyr005\n",
       "/PLfCY/D8QrSQO0Amg4gEDytR+8ryMm6SsFgNUvX4v9+WNGILDv4chVf3mJdgDAui2HWnJu8lWBN\n",
       "jdzOH1zR0ZlVZ0nxcVoCIK86XsGj8FxfyKyoRPgWIXh6FOfbrKGQtzlydbNK/tLQvbIWGi4z0Zgz\n",
       "A8lONIWWOQbtvQxEW34OrKF6MsoCIk92r5R8FJo+rgtLg01jlIoALIjP1Tx+P+mIZCydk1Govi5d\n",
       "w0abhfrC4jYjMBxXEdHjmB0uFyWtmXmKvWKhYDa4QXz+ayeQTR3dgyGNHwhOkB3SKZhWpp0UkDlY\n",
       "ZjDGfVtFMEpQnlZf0bfdG9S/M6Eq9jpl1TBregm5xmOJzvWy2DEbpvcw/77VZQGQ0/IL9V/2N4FU\n",
       "m07P694bVuD8AsHeXCLGGQ2wJXL2cgDfdg71VV4aH9/nnjIxVrGI39ulleuOEjDPRFa0RPumcY0P\n",
       "ssVtK8Dqk1LIxw1rdbtiQs5ruNiYK2aOmco8I6dTlGKQ4/aTKdIS2bqvyd5jN9zXeNY6A/D3qWzX\n",
       "GhQhNc41klriPgELJw6uj/QIIi0bKM6pdOIN1+/N1IKqCABCUSsC/v6/LseL9Hz9WzMC6hoX/yrq\n",
       "hsdSGZElPROzA6uEjJnlsnIXpkiFpGm1lzrHHEXZfBPN3WF2ndBkz3NSeNLV9VVJbnxV9yKquv9i\n",
       "aHLnVLZlo/Tk+Z6VIZ6UsMbiWsAbTCRJ33WWA7xZtwrvfymDofaMmLDBXVM7aaVhwiayQHP83iVq\n",
       "rQ29W/B/7ssYn7ym75Mr0nOWApacGcnS7ZWZr7razgFsnOA6FiofBPEKoAHzB17qurnk0J+MMUbj\n",
       "dZ//8asZOQ1OkQIg4J3TGjhsM1MFEImGVO1Qm6XWzeLShyKHnLn1VZyoCQToq7fP/a0P5AUZ84Lw\n",
       "JGbLSYpzMFN0k67ySKwBBB39rnhTeo1azbG199WVkhgK/JyG12hnMdxoQvilESc6846IZGolnePo\n",
       "YJS3JoRHx52aqdo1CO5LDwfJkT/wGcGGgpdFB9+5MTBBe18Ugfia90c9rdoM77BlIV8rINlB6VUv\n",
       "OcrOlUIrE2AdgRwL4oUx57LRZFqeZGAlalEROwZh1QpagTuRUIRlji0hcCdSbO4XFOQTfeYArPFJ\n",
       "U0ljCyfEv0t/UyYe2z/NT+6jJYsi0sMr5kOSTolKbgqyaVEfRt1i/4exP2uPjiYbzDrIrgfd5k7g\n",
       "Cen0YzAHsb3ozw3O6GIs63sEB/MENEMfBsLgcLuE1jk/VBwX2eOc5up4/zDQ2GDA6LtTrq32LbCV\n",
       "4lxcEK+VhmK77rOlRs8Rn4jRP29bYJ0f89FCJilevNNnVooZr3z6PTum1FBgJUn1Hs65AWX7p/Am\n",
       "m9Psdx971F5XRrxT7vBeA2PDHayj5QYXJvRKyNlhtoPi0Mgw7ZvY2Ca825bMHQdGIk+C82UCR9hD\n",
       "XAgQYkHZdA1JNfL4AUc5R19yZRz1BasZODAzPyh35ShD9ckxy3XIQCVrALdN9k3zv3HGNK1LTVED\n",
       "eUTXkGBSRXxAmZfWEPE6pgA1GKjk7G3v4xpZ4KvJLzy/0G3WCJk0/B6FihInQULEbaZkGL5gjgJZ\n",
       "VcK5xo69fJl4uH8X/GHSvX8FWLLxBzOnpli6mP8hT91bTqcw20tcXKH5zkxPeIO0Mxv1HT481xzm\n",
       "vqBxvx+R5baNHWKjFTjT/uPnG66fToHDY51aBD8DuuB3niPPsyGn1ESbQcXBxLOOfrbAwjLIKeip\n",
       "Os0+D14dNwJzY2PFlgI8DuBjrbpg+m5xxyL1N9sEi5ZbcmbE+/0sL9YZezG8L3Te3udW1YHzr3Ij\n",
       "FwQ+CK8P73kwDFMlyWwLJqAQTGFjR//KS9OzUdv9N9sUK0X0RbukYXpk30YX5B3PMqmOpLIxxyXG\n",
       "T3N1JM5cbeZE/ExgXZpKipEr7qIfW9bC5GowlYut+8fvrh7P6dbueCi1fePY093/QtjpRJSb2Mbm\n",
       "eaWS6Hz99bohqPfz9nWEfTZr3DBB27otkXGZzit0kjKWBwUJHOEODXhITRcNciA5KOqhH66ZUuOV\n",
       "IQITtCQ87qTo7I9kubtfWfL9l9AUt4nlgDo8lu/sg4L/P8GQN6ahHpT53EmGUOP7pfavD+jmDxln\n",
       "GzMvmzgQ+qHWy2O1Rp/4EG9H32l4LpaEYAPVfSd+hkX+h//TkgZGmtBvDaQk0JHrEb+PgD/xkLKG\n",
       "M36fyJw2PtQaJ3kL324G5u6emlLvFP5KcrEievh+QWw3RInuGX7LiBQMVAo9Z38FyQKIjYnQU7Ub\n",
       "BWs5ftnweEJG/cPcksFYng0shNVCaDrOnLeiy29zW13otS2Ocfn24tAUTRv1NJCxYEQztKqndxOf\n",
       "L4UFSSAWhBYMAGKuF+zsMWoOk2reIz3O3nzI2G7QG9o186bT8K55mMadxKy82tIFZ6OYmDtLeNGZ\n",
       "zpJ5jKZeCYgaU/hwdfKCWgVRGiTyYo+tU/OGF7tN8SI7RtW7xEFaEa/gNBCeqnNka1SdbUJlEd2k\n",
       "f8G3OnvkzeiuNikEU9eT4G6TmLcfzMB4zjBDEudB0IUSUeCV6QNggYbjoPFHobk7vhFh2AKM3qmF\n",
       "8no5G5rOmb0m+tbOEPm3f6vEEDWwbAvKMd0VAGzmurwejENbu8rUI8pyzae3ctqxOqyzK8RmSQkc\n",
       "FIETiVLiZkLkxLzv7qlZvPFB0gw8ToV6hr2vnz9QgKBMXcJaWfqal4Jei6gMznL6jHxN+JHR5HE9\n",
       "gPwvZmyHT4ZN+5nbwB/EIFospdd8iIUJmDFtMoPhy3qtJO62tduhP8F230/S2XJVzxkwp0DdlAw2\n",
       "HNFFpriN8pkfQ6BN0DhI64eWicUyfn//mNhx81DW9HMeXdh8i7eY7bIMZfQuoVw3mQDwR/8DXRrV\n",
       "TSb2pa3W0cEvBD//h8VtcXs/If7ImJoq2sHi4BrytJZQNnUtRIMKsGBCDHPR9rboRewlwdjnV9EC\n",
       "jUn6keD4Jcy2o5SS6uT6N0OXepJEsXKpeUxyXgl+9ySlbEFH2IlD+KsqkwyagRIQoUsKWZEqGVs6\n",
       "eQnbAdK3wjSKGeeFyE+TAWFJ/UUAWXf7h8YulEmTALn5jQIHGwoIyQXPkbMCa8G5jUxR2cJcTdmE\n",
       "xTpj9rTFgtB/tLCR9lrh6tWl9VrxX+trbI2Khs9QjXPlU9EeHK+P5p5x0A1yd8e3nk2Cop1i8Eqf\n",
       "q/Wy0CxAl4YfefxJ6j8pQ0PPPMtm78jgSF+HatxXC1gDj2d4BUz10YyP+ezllxdpd9rOzqlWOrlo\n",
       "bAmBcdg+3j06bsjsdqkopMTqFD/cKgixTQodomEeAVnXulcpycfd69ZwyliEjqnEYrGaaJX5HO2b\n",
       "sKPieiKklZTMlKp9KBgVZPe65e8W0vuoydepG+F8+31Sj3mD8wOSUGlAUfU6su28AIcsF8IdU71f\n",
       "leY1RdkO07cjGG66NW98RKmBS/71saczhlcaZAKzY6B42BtYJ5KI5zAxMQOhxvWy3/1PZv47ECF4\n",
       "JGua5B8L8yx4C4+QKWob5W5c0OOn+nsZo3syqVNq6xmfsBzhhYDimHyCLruWUGpj5LxcQFUtA+5b\n",
       "eZZHReFiKLuiKeytKntOW1kcrx+BBvQUHXgGDbFnMVmieF+vvrG9eTg8g7K1QYh5R9ieEjTRQqks\n",
       "GT6kC0smi2J6DZXyFAPMBmfAOt7Yc2piSQB4VBjhSHwD9zgdXcxNHpEPbRyZOqDUyIJDw2Rb9YQT\n",
       "AYcMp8By6BIddNrObnXPYt3pyXSxsC90vbrPrmf9bQPUTB9Wm/nQBZ39bvsCAj8gSeO7uCVSsGZ7\n",
       "q5tRHGM8glaOzo9IRQSO3jW4aejzRmdJmwi1+GRHOhql6TnE++ZD0m+aq5pwMijoF2n4Gmzefx9n\n",
       "fGEkQlC64w4ORxW+Md4yNAM9HFrKqffwQvTJdIug/6gykWdLXMy7ABil8wgd7CT0eGKZZ7diiEEY\n",
       "0YDKIuTJPqY59wd9X5oRrtJTjZrAELAnTzqurMxRS6555+N5iJXQ+BOvIu/l51Lg2mABAAPT2njn\n",
       "QdjBhXa5i/u1f6hXzJk1kMLBcuZMb+tkCnZI8IfDW+utM9vmJbsOY+GIXs6tcwDmV/r/7y1cEIYx\n",
       "nLX/m92WA4TYaymGRNoyHPrETkrVypRVnTnxBhZ+eLwgd648hp+2TN7jognmVQ8k4Iv1+AG77OJG\n",
       "S7+atPdPqv2OlRy5dLIF/I13bxuihfLHKoFqXEZagfcA0erc1k5hihynGk/hoUcK7VFZk+IRet1t\n",
       "K2o7MyH1LDyha+JD2PfF1NJP3wX4H0wHRCHnOo2FxZWMPkRB/9yid7lV/YZYdTmK0sy+py2+bbBA\n",
       "IwlCB8ZYnDxmoHv7DVCLWRE3guUbs+wGAsPtBUwcPfxpMfyg/nrgioAFhrLivntdJgJVjTQ1pKbS\n",
       "+kG83YXnU8ohLCeDab93zZkfqTA3vrgGuM5hD/jRrJkah4sKMeigM1Yu0I1Xx3JNIsoMEWs3jpmX\n",
       "5y7GqzCnxHO1BgsA6A5oADyI/4ZdH0wpl0/SxOygUF8I939t0dPWqzVP+CWXQcUzTHKqjV+qE6lC\n",
       "z9+BnFMu0T7S7cBLFqcdPSqhfzMCo1g3AClw+UMb1j0cm4ke2/yJ9T4wMPLKqk1fDIpTDzH9Bswb\n",
       "sq5SUMPWgaFIIQj3mNJo7ibseg38AohhKMMCCwTYgCTy/EjWJ8TpINLQeZ8fC5ZYsEoX+b4cZx7x\n",
       "ZpQw8GqyujvpawFqmkjcucnby2+aJ2YoEUbvm0ukqmroosLQ0bYpLtQCdsTP2ihCSapEyDsLXRQl\n",
       "Z4Hs2EADD2VgsMkCBo8eJniG4+YmxzDSYOVni/NViDj9A7m8gpPRwu0u904PEgHynU1qC3rHD6AU\n",
       "DffHf/Rsfxhjwfo8XK2eGZOau52GbaWhK9DxdXvqrA5LqvoYcJFI7L9Vy6oKXtsOPLARDkeKdVQ7\n",
       "fttGeu65MVYW4N0kFBys4rHBTCVEAmOt+AkMlYmOf51pJyIqm+BQPNkVM4vBzM8uVBE84QkgRVfZ\n",
       "zc+ocgcwyMfFuLmKRi2LELYM+Rsl/tmZ5ZdTYp3YreYqP2+wnxpGZ4mSh/lsciuR3R4qtN8Klh+I\n",
       "iuOQ049qVM/x1ltMooq/GFuCaPcbrSFRGuz/y0T1Xbi97mbtiPV9m/OErKv5VrV2wiH10hG+tZ2l\n",
       "rUtpqVwcIt56ONh/UzFWta7EZeDcNUnp5Xr+EWXZpcTylSAuw7j6jWSuinf+sOsKRESEEn5i3C2P\n",
       "cf3rdIYTT1Y/EW4hkPuMUTxpdlGlIB4AaIJ2RAJcZQkr+36QQlWHWV/6dELyHj7k0EJT4XXJBtCO\n",
       "4bYsIN1/lnnVuiMZ9hwnNj91Q1JPnX92XiC2h76DQdtgDMbpQ6hTMnRrf2ij18Z4Yv8xCW8IEKXx\n",
       "BrdlfnbgC0Yl4FRF5fbRuMcVij0kIEmBpNiQl7HJXOJUGR3Nq0u7cWPv5dkRmfBpQZuX1D1jJOYh\n",
       "2GIjfW0PabEisbW5B2dkNi+iqiOdtsrN3qIaQU8uHhyRrSPfxeawkRGStdHE4wbEaRPofAXzBgR5\n",
       "yaZRCfBiFlskteHl58Fa841gqa3Pzrc6Gnkt3v2KRASm7AlPYNiuVJhZppznxKlZlN25o9wf1Qg7\n",
       "MY2e0ZCimXUyhSoQ3u7d2eUqVt6sdJfCVV2C17vQdrccTInQe06N8CtOiaG/JRFp18sUvsee31m1\n",
       "0FUiz4A1qhTKES4xDHloCBN8sipRPbWxVORygkTEB2KzQ5lSOyen8m87/t32ye6Nep4EEem+MdT/\n",
       "7FxtLaXwkP/PgNEMlAx541rkX7R7b3rk4yvdO/Zxe8rDP7+rhLeQAILQTYvX8N0v5m7xiZEk8mtG\n",
       "eD3WDaQ9Pteyo+KV7mARQpQSyHsQhN9JF72jzGAC9oEFOZoztfw543ncShArsrRxOA94p6R7lPtO\n",
       "8/ud93dH4J36N/v6rmfdxIXzjIzswm3tEM07OTI/Gb6plqDZsxEqt/LbQ7aBPHAozKWBtNcCucmx\n",
       "tW8/Rs8A5oJNlDzpp2OlsOvNp/39uefwsAiDzrbMbXsqI84GSIVzO+/bvfk6CZXigx1KPSeFpSiJ\n",
       "DTHib1/lHRAbtjsZZZcLilsZ2D27XiVOghizokGXNuuBTwvv90IrrkvxzveOUoAqqc0PaTuRzviP\n",
       "oKpQ57Bg4Ju5ye2978a105M18Yaxx5eKPrG7zW7bY7zVnCl0X31yP50Y4kK0faAmL1hbfInAI9m0\n",
       "7W9FGgM3KOYYw7UNKX5DoCZnpUYCoEa1L4NYC/dlhrQwC4LFjN6igRrNoTd9kpNvsSGsxu10PH88\n",
       "sfmkoPizOVBvag6XVIoJEPgAJdBYe5dUsA6DsFsIynwivb8N0sabuxtPkd4REWUT5quqb9dgDJO9\n",
       "EcFjv6eDkK/D93rvHczBkVq48Su9kkwwJPBEZNXfGWmZP8GQu25/Ouidu8yQe/jNBzwlG27RoxFK\n",
       "ONQ7PE7JBno3tz6XyKYSN8WsFakXYXoAFkJadocc5kDAMC3Beh0cIKyPxBobbdQF3gJlu7Cs6r6G\n",
       "1wit7//zAB8ZgQKo0tbnhyEK5uxwV5mhFgRy5IoDwe+mN4mn+32dH5tu7TxQU/fcFzAe+lv0Ar5i\n",
       "Wzw4EWn5ovuwrMtuxdcjdjb9F1Zpkc50sdCk0mUZPlklhXpqfEMkoo4Ld8jl0vDRDxd1Hbo16BYI\n",
       "nbhSXTKue/3Fzr/2g2vZAwEpzm+nCKRctYuQr+YPIzmUSVugyWCilyd4zigsoA5pTAV8jf3JroSc\n",
       "pdCmS/TV6Sy9z8ZK2v/7232PFqbzGmK4jlsgtC+MxxdN6e9ZrX2ygmk4/33kX4ACZ9qWNBnCopKN\n",
       "eHmSNIMTpSJ8CdZd+s+L8pX2mtLLQSPctt7geMPCD77teVklXD3ug1CacIQCpKVP38l0UAM4uwwc\n",
       "qO74FxDrHxHPhy4Buz5Mp1e2zU4YfWxWIQOxSeXXGvvaqwjQNEmmCTfNr1jN342hgrKRXAwTA0LD\n",
       "GHlK27swreUpujZ9P3SUb806NUMtn+9vaUkVurlbq2azUr8+adDmZMevNOueo2ZUancJDk3NeaOy\n",
       "4nyk3HUQOCWSx++0R5lGPVmW1MKHMEXxcpIgHabrSBTx+bmP0eWjgQPatXkz/6fYZtsx1mNEEiF4\n",
       "lMQhIEY1RSU/M1uVKiEbISRf1MEXX9s3qqVatxJLg9wU4doYwiBazm3pBjlbAJqobN1cRsiH2djl\n",
       "l6N4lbAkEU6hRMJs+fullyShDgHnnkoZoGLYzFJwr46MZznivrPflc633MrlQ/pdEBkhGA28gtV3\n",
       "E0P8wIGqVEg03JomwvA24jvqrA3aWMKkIW60ML2vh1zGzLh0qs05wkqOyaRP8bjJEh65iAktoVDE\n",
       "+k2UZQBg8iIc+41H0vnffoK7/oeE/yHuUfE2yvQMmR9lzXmtda1XwhFNycViQzuzkcYcbTZAAmQV\n",
       "Q7x0LBq2jdVxzmpsvFq4QWFdByrdYexMs+dhUrHzilj29neW9uI+vwBzac0gU3yX3A8f9uegyLWA\n",
       "6uLsVtDfLs3KIcRhmVR4xwcUSsVUhvbRjRhJtIbZPNbCK7nTh1P4QQc2dB5845Cj7dFZt5ehP/gp\n",
       "ExR8le+2ZOM3JcFWdzHyfgNZcnrfb+Zkt8wIi0EygH3pUUMb5GATBjHYC7aZSoxorJ+kX2VPevlS\n",
       "/BY16eWqLRBmLy8ML2zA+HUxlFyUvWPGoJ2xEWZAI9ftizf7MjXotIBCf50JuQvAnjFwK3I0BsRf\n",
       "NY6l4H+pzwzvUDhlgWRWGnG6HmbO359zISwOLk84L/vvMicXUvLWkB5Fv3+B7bupEiKBM6FuKUe+\n",
       "1gFowIuGWWFQ9HSD4EvqivI7KqcDo0njfZIQTxCGDDajsVnoEcGZR6qZft3cLk3tl6hoD2T7f2Iv\n",
       "kZ5tTMebg0dN1ujm42eVoq3uFLPkd7eST57HNBIoyVg4X15kFNv6ci1fbC24OqmHOUdRjAzrWpIk\n",
       "CheEh//W6q/Pk+B0Q3a8CqzFuPkWZ0PrcUqG28G6lyNeg3AF+FmJ99azGn2mqhHzE1q5DW9bg+6A\n",
       "isp3hbOAy2/te+UObSLjzFiO5uanwx92mQ/AtVUTafm0Jq9Gfhr2HwGNiQ2zj/E+jBwAfkQXd5z7\n",
       "rXXIRYtGdJP8PeWQ/jXAS4GlNQ8XulyS0sTgIB3EPTJMez72sb2krdQG+YJPcTYoNCgmNSni2z7U\n",
       "0qlEA/bd3C94mHZTMPYQJjWc4t476oJ1+godFv0mILoqtxIPBP3kSoEciJ0Vbwt+9fWdRFuvgJmE\n",
       "0Y2XS0vl2gbApca7k02qutdtsn00q0XZxqfKAKecdN19WbaiVrY4p3UNRmFzcaqcMygI93j8SNiR\n",
       "uKlEMC6WV8dzRr5LmdZrGC2SBBsbBzaEjDAg0J8Gt5yB7TNKKlROb/oSUCKstPzq8pRPTrO9l878\n",
       "j+D2Va/hcYOoOUkZjAuHbuIlMmwWT5bupt4HrcGxBRGZIrC8q6iBLA0Zcl30QwrLVBf8FoE9Uett\n",
       "DbZwP69lQ81X2dBmLJb+kdQkSwamfgZYz3z/tJkHEEaNM2n/B2pklHDB9pAh2TNB3HGR/X1R4b3A\n",
       "Btqf+aChAaisktKgWVXLYLDDZBf5SxmUTiotaW1y+s2v8FPFd5oK64DTE8SS7J7vA9adnLSV/7hv\n",
       "8eCBiUvkN65z5QamuNMs3WWlivLOKCHgAMPtM/5o4fozn0Kux1fYJv8q3MIER/IQGBwPR+/S0zmp\n",
       "lG/+qYZKSAv4OcxctZZaWdT/8H2gId0QTDHx9pertSeKPufcxsGfNGNhRPfI3N3QyFhMnIS/uRKv\n",
       "NDTXuLmFn6iJIsCoykfVyoUSnENDu4sc4zdZFD8Eo39qq5NLRJT2Twp31MJRHVrW1RB7M6MK7HBS\n",
       "zf6mAIwCzp5xDjYGt24JvLyFXvFpP/8z2vP5zG9pWQQ9U50wk8chCyNRcKDRzles8GwzNMlHCrhF\n",
       "Zt8/+4eVQFtfpNvaatTJJN9+mwweFOh4RGc2urS9sdBcj4zIxFGVMb+bV8HXV+bY7SikgYuorOP1\n",
       "ccPylYJS6a40K4pObnvOozdGh6v1P2DBAb7XxS4mETtX851ELFukum8ydYOA58wtBc3n/wRhb0Ol\n",
       "//9TOiO0yotRwAZ41ZAzHEDAWOFWk81AGtOf4aZaNhSus5exNf/y1aH0MQCOFzlN/igVcI9sfhYH\n",
       "ozFuR1044Ts0sasHCS17Pyltp4rpIQ4IeTJv9QuqJve2xtTbiDJqiVd8A6Zw1sqILsA7W3+kaA7W\n",
       "O4TAqiTRo1ZpQqlL0arZryDE9dII5eouTLJKF+TwOSh5oLyse7SZ+v8cYBMAd7GXVPNAEliUfAW1\n",
       "jpnS1w49v3Qxu5HJofh2WKHqCrr3AQt7E4zycEyZwlSAVmUkwgayWTVdKkard0B3NCA1ohLMV3/G\n",
       "KYY+smhqXNdSBy0lvT+E/nLYOK8/KFp9dOvn/EpqBN8heS0plz+laebsLxq04BnZhbJD4JYPxd0W\n",
       "FZLujTNd+4lhsVc3lum0wTwyZJNJn6XVAQtYWEJspjFVA0ZEpKseD5TjMxe/6J/oCiIxIyL7jYJR\n",
       "hillxfqWGy+eEN7E3MdS9LF1J8ycpKqgCX9i1MfRoIN6iU13rpykakHYhJ1JR5nkuQvbs6u4bcj+\n",
       "9+0QMyVz8BW+uM1N0K0aDiMWv/+TQdw6nL7zIP4WrIRGytSkseLlFzg++AxKjb5xMITY9fJbKiMX\n",
       "/3sHxvp+bQXo4Pc6L97ZLcdwa+SLU/f31TXwA2y4LZrgmvxzv8smzXlSiqYbOWQg7plzQWvT9oCZ\n",
       "p1wdZbpWBpG/jwxaaImSU6SocEHruAXpz2jY1Ta9w4SP7cPSAgFcp69EOJiiAvCUiWOqCl9TG5tD\n",
       "0QhSSiOD+SkDBtU+wkaLDciWiIxLKsHjW5ygkW7toVoe+hbBHSW//+SQK8kxYvv6bO8XUmuArdU8\n",
       "5B25LOldlXWZaDimF8Kk4Kk6mKt0idFckef1lRpTRvgSTECtxULFmn0hks99xv616iEVZ1w5ovSs\n",
       "PFCuKvp3vd2fOHHKTL/yFXXzdlP5sEMzP4G7YhEt1H4weGKRc6mUMbkgC9trQzFiWad2OlzV/DCB\n",
       "pPWuVmF4x6ectqOOq87ULNXK8fAzc+zsZNEfxotL3Vqab6h7TvjvFAfS4zkEvo9XjXnHIFF/ChZO\n",
       "/f/EurKcjMQqA2uoXJQ5+MKYcwC1AXDQrOpKWV9K/4AzFjumhVEYfAMqXiu4nNkN3i0clJYFuSwJ\n",
       "RkzBHQEuqRJRj3TeGplm4/fHmKBDO0nSaGbfwliYmSzGJxjt6tN4RrTgi3aSw2lDmVSocLthNrLb\n",
       "xjs+0G2n5W+IIGO+aJY4NRz5w6Bu8o+x6BAnhHnoFMUJ0J6N+N/4w4ZihmTsnzGuPx3sevjFYfoA\n",
       "vGU84Cjzm7oGbC1Bczklk9RhAtHFHeiw/nPyZGePu5XU7UeZUhUB4qork0PHzMImZcMPltAkRIoQ\n",
       "Yys+K9EheETskb7QDRrlNH8AXz6sstP7Zcj3sffNIJKYbB8v3v74xbANFbcu4fbBAPQfx/lRfRxa\n",
       "51XejHfPYwtHd6ala37Iwn6e08R2fcoRe4j2Mfcjd2ilkVBghf/b/waioglV5/U/nlqW5H1smoYZ\n",
       "EyQa/g3AZrF5K7n+svoM2Ep3Z2jxia6GarOg8HGM8M4p+AgtCUVrGzwChsDRVpZ2fiJVi09vsWjZ\n",
       "iEU8lO+FnBv4sxxLBA2N5TNAXbyCYf4MrUYtS2EFFjeqpfbkv9XgCeTB/bWPW7OFVeTiKBT+qYyo\n",
       "R0VIVSuHbErdluLLav0AxqzVB30cZU1nLeNJdkJb9bM4J2AiY+vciYGdPt8YJAlwFtNp85bM8d0/\n",
       "l01YUkx+qkiQD4De7jpJeZ9E8o/Sfy06n/d0e+tg5G4mThndKD2uDUM2vcG9rBijUMJVZVmJ7VOu\n",
       "0kvcWDGd1bnKYfSbDTZcxA/KWB2BiATylB+lYSBKHuCngQAABvVBmiRsQS/+tSqAIo0YZQBnuCd1\n",
       "AMcee3zpi/MJvOclir+YJGSHUN6adh0I6AifEimH8XB6vrblkWgX1+ubW2LNIbxtNmW+22Mw6ClQ\n",
       "EflN0yguMbrUp5L5XR3fDNmpxzNDJx19MR8X9Y/FU9Ueh5AWXEhBPthz7Whk7NYSQXXKTmxat5Ig\n",
       "WS7cdHiPw9QtWrgt2NCcq5ntH8G8xGgbTF9DPNskpubSaFgadrWMuZ4naBF7ySZx0+ProWppVbBK\n",
       "BSC+GnTiN/+2wdDezvEsErHcrIIWEf9dwxO8nfZGhDMcBqIn5cWMjWa/6EiPxq6mxv4eHP/fsDnR\n",
       "YPhiq1XVugk+VEULVkbg3gJJ4xkCcXxrjLB1+ZIWCxNfrbWKwfv4gZSO/mj5u5nrf4Mxh1AQgLHH\n",
       "YwoGu/xeEgiSmKEnJjn14wS4+/jPEhLOTEaxZUUsQutgUEfB21Dt5H8YxfScerBO6RpgFgbTwp4L\n",
       "Gf5ERXgx5qkloYp0FbuUwAj6BYv1c0HvUoXlzeD/lQt5d+Eqc+32Tj8aVZf56XRNTUQH32FYqgj8\n",
       "DrPxKMBXQG0sqDojr8JvEDWZF6mzq5cdz4arB+g0liyn1ypDin4+ZUW6BuHmsAA3a0ZCF4qVDRcb\n",
       "qYcZBUOQ63BRgiFJA1MaIM8nMFOIi+GylUhUENwzqHCQ1W1co7rkgHMMZa1lxAvHbwlP6OSjPgGw\n",
       "fi/moHgtHHYhZPNrx/dKbJ7AsP4waXbcoThZkHvdPLV2VJRHE145lWxHfzBFxSoRv+63FSJRIYFj\n",
       "DoCNi6SUgzspUk3O3GzMtKbSeq7kQXkZ82NeiFmZgO/s+wSYmQ0gxDKc8ZbZ6kznNLZdC+pLNzlw\n",
       "MSe2RaAasFE9ij7ycZY64k7dcANkqMnbQplL6U0wuYKduFnJdt2Di5LiBsY4yzxvLJTOWwSjWxOi\n",
       "gtbCD2EHyFBPkIxhQiy/0da3CizOvkC5fjYr5fS/TLUV2UMQEOPuaxSINeqQ22xqr3GO9ro4xGNm\n",
       "s4n3eDGWo7O67pmvVgxr+FqzV9nUC/BdfcsZy/wAuwt4m4K8JnTg3Lw1pYtnw8N8y8GS7iY8AOqS\n",
       "MTrSmneOM7pROfrXWc7wrYguFZqdg95Lhd3kD7m9YOQ3B5Q8XNEKE3LFgQ3eOUTsi/WvJ2jIPq4c\n",
       "73tUzI9xnM9/veBKP/YaYa10WuBlRqqLWFTJgv1uwbSoirojvF5eXX21mANAzuTVFYwlgcuIIBjU\n",
       "UFgJCR+jayo6Qopz/iIlweem6/O7dMlBsxrYW5tuuP7ch7vhsTYj1aj7UodFTiQCPaOvo8X0t3d8\n",
       "RrF7+tbhueIvOflCRegq/X82l/64plmEajVGnF5iEh/cJZtdDdIhifh/bktOHLjXdtPSFEYSVM42\n",
       "RefFdsH9Y12GYoj9PTc5KS7yq1ALCchkbPATNHVKPCR0EktrQOSMFb32RTTAb353GKzeBMCMohSw\n",
       "l5BWOE0wOkCG7JDSImATMXx6O1TVj5lK/mKB/+en7Cra2QEV20L7WbI/sVqdsBx7nq6Sgzbwz9Rd\n",
       "TE8K72FzpdqK274EJpJ04VytridzoejzIT4vKmfiDPsvoiWBHY4ka4wTNJ7pS/uFYSF8F1RXtiUs\n",
       "Q9Ev/8I4pIteZw6MZ09ryWzfVTuw4kIhfYRSRdbpnD/bmCeWCMwkDVTCS3sf7thVq0QnZquK0u8A\n",
       "4SvalW7wHTMO00n5J/qar5BbW02Ls0do5Wl/ovUYuxaZO9RXMwMRsnRtpBphsGoS/c9Qd0a3JxlM\n",
       "M8R2XTPOy9I0JY8k+Vd1ctpTvhwYNm5EJuRKOvh7d1F6AVRKVs+7VO9/n9TAup+YLEtqJvsF8w+V\n",
       "7q1eHlW+GLnkl67Bntyta3oHU0bp/Zhn/LM17zlep5gqGYrFsQwRa+eUlgh9Y09M8eMpqDUUvQJw\n",
       "Y5ua2wz9BRUXV7LKulgdriTmCiwgLGb7x6C70B1UBOVSIxQey2syA75vn70IgjTu6DnLKTspTp7G\n",
       "ZIa9dyinTndMaRvwOIvmyT6vRI0eGN/qkaTJdkTe7iWdi4En32ww17QS29JnhEKbcgcaRscSJcjo\n",
       "3N9s0J4OdkR8MaCV+HUqL12/p/bGGWckAJEUT3Qdi0WJdVYZKYPgypQU0SqisuNaFCLeMSSzzS1g\n",
       "b0rRudN/Kh60h7oan0bLEWbxDlAbcNOA+aXRgs0bGdy/TIgp287cC9Nwrvq71nXTXC1KeKpGyWiQ\n",
       "nkT6mMnK2gewsAsYSNx0YBngECkX926Xj5z35mYJbBOyOuFEFGobfeTa3Qoed8IGYzDtKAfz9RpV\n",
       "Gem9mG23eolmQ8BNq0ptampdnX1wCiHlzn0actBMw+xieyCj9+YANgINLHTM3fOxnosztgAABa9B\n",
       "nkJ4gh8AFX+dNCG05kF3ICQ65yILX1qFk2KIMKANwi8lOuuKer6gRony6adZRisv+CGUixESheAc\n",
       "iVMw/uvi/VG/TTkyZBQa1ty6fqoqYkHrcQQ0iBYsQA7+vgeQx0ZryM7d6xADKoxUnTBNj819LVNE\n",
       "FQmniTC0LlPwyzIXvGch+mMAgTmKiGy1r+81St90sso8sjDfbqSa7elWe4Laq6Hi3UiHy6V7xS7V\n",
       "i1my0lbTGUyNS5b1VzWvgISsIp30HO4Bil1K20jxJsgBVSJQ1dkfZAER3LQrK/HHAQ2iBxdQCmvJ\n",
       "QGJmZ66DCrrc5G3dcZckaaC9RAijJ/0FFK53b63THtm/bOIoQet8CjNeFuPMK3omjTKZw3JrwAX2\n",
       "h9X1kxCf55UKJactE+IVy8k4JKCqf5g+6GYcpftRVleyEr4kn1atCgoB/B9inq4VY4z6LpHWvCCj\n",
       "zC9MyjYVfvnTLI+XhcRM95GTg0UiuTGKM3/sKbcrqRcrktRHJX4QEPsRqfWkK+pjE3ldlmBC795m\n",
       "ZDUX6U3TYr4zlrqIkv5FySE/iM/McUtD2XK9a8lKgJAhnITBMlgk9/o4ZiBUfUvasW5F0JD4MRoY\n",
       "7r7JOva3L4IhqDgeC0IFozQim9W9a+U4HeG7YrWd5aNb6FXdIFjbnK2CW6/eYABFRSLQZLdwe0gH\n",
       "EIrBy4H7N3WGw38ioCNo6f627y0OarMdHNUwZ+8djSNrQTYhgcAu8O5KJX5uFCp2yeXUmHwLB9Gq\n",
       "iLMyJM69gU7qPRmfhkgN5FUkPnBmCJbgmkassMGdalev2TXtKezYigNCR2WFD9yK/TUJY79yoQJZ\n",
       "wUJpQ+2Yx5lU1KhBhVw26abcxtjwG35ugHD2QbWyPefX7gYfMq3bZjfrCXYGhDPnq1vY7uQWcc7P\n",
       "d8li/WsHXnQwhbMFhLgjZcu96QbWcswEMmKFKfFMS2wme5TF5Q8mxvXjURnpVr55jX2Xl4chf6wb\n",
       "97ZBwBBrbTL4zqMoiZRNn3hBc1UhaudcNee9dHkf9k9vmfEqoxFIbK/UE2lYbAv0UG4Zx/QxPdnJ\n",
       "7ywkMFpO22heziKWQpLscgEOWrFEvmI/a4itgUQ+Vvm3jkkIwaHmivlCHad3jxiYh4ayJ50xwBfu\n",
       "4uk3ON6Prn7wmLhRS/VGRgAZn+Tpo4iFessEHjRf/eoBFpF/f1i+W/TujLXGkb08iAHGBT1H0llf\n",
       "q/6awvUqE53AMLgrXZQjOR/F+etqQEjyt1MaENA5QaWPEqMhIzGC9YTmQ3+UaT6/D49wrjREnQVn\n",
       "r8oeIrakbfWPKvjv4Bb6Lz13E0lI2FJs4ODQmSC/+7/7qhTyxw4M7TlycUMhHxCJFqGnjcNt0b4k\n",
       "v/eGBwIN1HfoN0rwhAJSNr8xnpHspF58tUonbk6eMJuhyvCP2CSO7I3Rfsm9WcaYfrfxFBJVm73q\n",
       "daecUx1JGXjVVylGqBoUqtIhrxT84Kt+thEmVmmCrREa1oPr1Mw+QcS1v/wkPRFPT48KLVG18L5t\n",
       "E7uJjK0nzpGDwZnx/VHXOBoWm7hIRiWsle+u4WJBDTKIFp33AHgCqvZmdJf4Xy+Ni8TGAj3bkVon\n",
       "dhpy0QA79VOeD+AHXDiTC4OrJqHSCJ6t2QX4rFg8DBIHzSJUdYrP8ulqDVQVFZY9aKburIQvjsBt\n",
       "E8F2brQCJWHZNrH8yMkI+3bQ+pUiI1W3QQkqVRJJiSIJwQ5VL0hNiYY/xewAUcFdKKu99jfxcQgj\n",
       "Et3LDLEWHZcudvGc8t55DY+d81YfuXItmhYjTKUXiFxBWcvIhOqqSQIxUnXSVUfOmhSginMokMHm\n",
       "fy3AMPFYwI0FWYtPN8m4wgq2/kbxsWpHoS44YEOluRi8uR0ZhFfDXK5sIKaUTT+uAU1DRf5wZA/s\n",
       "v+WVk8CBz2HRTQU+P5ABlwZltbOJDF96r1VbQZ8AAAUEAZ5hdEP/AC+C26McVd/zPV+K94suWfsR\n",
       "lNfgBLKEkfeuJbje8FhjAspnCooEW1ljHubeUsDu7JLubpHX+MrxjJM/h44qkml0GyzoSj913Rzx\n",
       "JrCQvn1RRmJxo1W+ZohtYp2M/7wYBMRmWLgpE6wuP2A7n+MXC1qi6TKzXNtqcJUD9fxtlvaKbP0E\n",
       "Nm7Y11Iogijo1bH9wUQkPHsb4kIdaYJAhlCA2gsnqdQkRSLF6t1nGP1j5aDJR9xOdmNUjgG1SXgH\n",
       "dw6puBs4mGfeJx5BfT+KAljh2uTA+upkOrpg4h7su+aAUxLi2ijrUKlnZzC3xP9466Y+rZT1xhol\n",
       "jvF+fk9uixO/OQpYKGDVB9EPpENyAXEPvDO/Gb6mz18erJJD9gt3iFSffVH/capQnp29VnJ2a0Wi\n",
       "orYPHHohRF4wnJuYSxPP9pAJ8h17kETBWKPCfBYbNmQ/GWG7xwumph5yUwtaQ9fFHzIhfeE6RHmS\n",
       "pRgWlBUn5nqHjMXhiRzn+sBaIrtlRSTTMIDIl4Q9DFo0xcLRx71B+fPuU2Zp/SwTcmHyafeo0Ds0\n",
       "Xt56ICXQkRceDGolxFejTRw8zAOJN5Fyh+mW2Z0w4f78fcqV8SSt3pB7J2wTXpg426FAQ+ZvSraY\n",
       "Ke8j5GxWtZfnw2qOYgaHPHCEk2TW4n0HJ/YuCL8aZIGGlba/cDfSCONj3IICkbsVcBzVptyWqE9q\n",
       "MU4JBbAdKChOGarzOSUWnj98WmuRIqsP2xFfbNIMjpKBb6+WkCXo+ObhlF6o0ciL4g7OE+WROciE\n",
       "ERFP74guGI1vSrbO3FiRry6Qx89+OhFjCDavTZFfjCPe7Vk5Ok+AEpu6gCOnit2WZN0Ma03b2kUP\n",
       "JnI/eOkczF4oz4BY3xF8zfYilyEYn7vY6kcoMAPz+PMt72Ib4SmrxB+m+fTVED2LRnMG8aebPGQ/\n",
       "ZWUDgHqRWQfeg17RKy0ZnctPx9RSzdr3mqP7Bb+TJ9BpQZLtRHNTX4fl4KnZUbyGPrTLi75AipJj\n",
       "5DuVbykTxRUqzLd2lTYJY6wKqdbMiHyBLtsLVLqBLh6HXkoJlb6rI7kysVRxrNsf/A54M03295+5\n",
       "RvZEraazEVYc6DMyOdTDrwLNDoI4kEPlxFg83YcBFfrBF1FPMn5gV55joISRF1mSh3d7CNZ88xXS\n",
       "SdU817AGfBrhK9y/AyzyIpe0QJ1wnNQuVNfjsQP3047ccZvN/MsaAt1zy2gqlDJZsCnD89XupXeU\n",
       "GYkZTG3yn4QCvbdOImRe62FaMOX5IPMfkw20ZzzjNzhqrjumNfccQeOZR2L1i5lOCdQLv66JiiTb\n",
       "JFMbUzwmFSKgnVN/0yYZl5l4iGd39FjaYB9AJM/vcjoXoxTQlVp+xiCVcK5ebZu8RZymRztDxHVI\n",
       "S5mfvp+q0oMrStG1e95+Pza6QvDmsxiGdo9HVkxSo7bTZU1mAGBW/TriqJt20B5EzAE9RgdPpWSm\n",
       "78RnG+yiE8e2Md3+7MPH8/91kqxfP1qn4ZbZTZjFdYH/+oyLJH+Rx/Q2dy4X597KhTeE88PdKW/R\n",
       "di9Qd7zMQv6Zt9Qn5F1liXEof0UXWDWBAIWiz/+/CJ7CYBQJ7lRBtdLSEQkskS7915muD3OpCTDf\n",
       "w5hHWfFR7S5NO3igE5W4m8NYGyMOHPvCfJpue8L6g5hrWWf+qpd5XQyA/ZFwzVD4l4gYEav9NGhw\n",
       "2x3+IMSAAAAEMAGeY2pD/wADI5nLvAunh9n/v5ogBGKBgM4IQRqmL1AFkIDJSZ0g0GZViBWYSqUX\n",
       "E0+5epCda/awQVJmsu9v8uEvcqUFfmQZRrAQ2DfEvohYe5RezqelGdPcHrJiOi5+JpiIQ+ON8J55\n",
       "ZH2Qvx60KwwL3lC/XXzOcaLkR3DqyuI+gXmb7/VUNqKc+CLR4IcfuU8zn5lVMSXvu2SphJ9lLahu\n",
       "+vEF39FP0t7YRHgiCYUJnR7jK7vaj8HpQ+gYoU9AYMbFb/3ZDXhhyNXI4YiOJomOdo0GF68qTVLr\n",
       "dQcmClIustdKdFXmd+41T+hQoN8sVsOdbMrjzQr12+KU2go2KIBLdN/ZfBBXgW7/pkYLvDjngSzO\n",
       "HXwuwDjmgpunmp5JMO15PvOy0z8CcVMS5N1d5mOexrhfFASqXFlBOCvsNNkBUtGqtlD2sgzqDaON\n",
       "92L6wa4zvp9VdzXcTw5G36QUhf7v2U75vzIQBHsawkEGdizhGqyqlko09d+vE3F6AY6oveeqfISg\n",
       "3VaxpHHdmbLWJb+prMbl7BXWowFzylXjuV4WynMwT44PE8TpM3pT7t8QfH1IRtlZSKDpmktHRIeM\n",
       "ZmkIardriu3hm7WggwhvQ0z3JjQfFm87PyMPf98I6aoIfLR9+a4tCp2+WBEsaoV/HsrCIxIdteqN\n",
       "sAGq6hcJQdRBhGVJ9HJsUGF5OogPnuySN2JyQ9pQPflBVbMzPFnpDmdfwBVBipMW+LZzzjFau8Zv\n",
       "1lQuLZQ0wWniAwtYl62I+4WEfvJsi3ADCFaR1oMKbO0Gi3Fuv7VSOK8WrgYp4IJLj10AYN0p+2pb\n",
       "zldMH3kGRlA37Em9b+2djNrPkTmCiVLdJD7LPjxJI3g9wCx7RXjGlm7/T/yWlIE4taTVwQokbzo8\n",
       "dmJ8lGGujTYShxTMMyYrK/0KS+zrwi8ckSZM2mWXv5bRDWi8qFXllCL9j+qjc/TsPBobD946K+ub\n",
       "Oowg1EQsF5XvF1Oflt8Mx6keQJXufEYRpA2+eTAaDtZokQTjv2/g5SJTtPTkbSJPmKFguzftjF4E\n",
       "hwzMVeuKJBTxG+YP+YyMMX8Rp6tGLPJGqkYTYpVR5VOZNucqafHazXDj1R0b1pV3lz1GakF5YboB\n",
       "LSS+dq7LsUssP+l2OTh/4YO4iJrI7TTejslq7JYzNqU8uq38NDjadG68A34c7fSp8lAd5Zjggkwx\n",
       "Iwien2DsaZ9u2aozsRHIQ8IJqGEPEP5EE8ZNe8Yws/4JYui9tegIkeoX5EQZpR4pvubZQdqZ5Li0\n",
       "hbsKbVrMydTyWw6ZJnhEyBcC+vUItsTfcHeuRODqMmkjAN7U7XUIpE/Xi61OkcggQNkd/p/Vv7Bx\n",
       "KEC9G3zaxhDJArUbL/HfpKX0oveDXynnUm55s3vfP/pvnWt0h/FFbVNk5EyCKqoU/C7s67oV/VUA\n",
       "AAMmQZplSahBaJlMCCf//rUqgBCcnPOMUuq1IoMrXT7T+fIOH/Aahsg9PRMh3Xys4ALqE0gKZWgc\n",
       "wPpGN+v3EC2h+Qv4RNFQzI50z2h876X41Gs8WD+grPE+XIHfEWly2oLqrF+AzakPSukPl9OaHSML\n",
       "AUtTgLCduCZWM3PDaSOljoViFg+NtSKeu372qB3KaipmLo0PTQ4SXkoE/k2LnCBX21OY5E+HsOU4\n",
       "3HhuysZlPkIRW4no4z3m1q+Ulqk6i1qhZFC5qYZkDzKOcHwEibQu/NfRwc7EpSRo3gmmDf6AWI4f\n",
       "9Ln7q13QzyZOJYs3pj/gYhQQlaaU3b/BJKwp7Bk97hLJIXrYjg91tuf3aDygF41wxZaC6JaTyPHp\n",
       "bNZ5QblFsayjPxMpW3ijiIO9ozEh/YReoc95i5wH9I7S346eqHm8VvknrgG6lusLZccY+lbNZxcw\n",
       "dJx3E6jp3go1od/OMbriyfwXHmmRmUI/XHetH8xtWAIsEi6tGEdd6Kj43eGvNfNTu1SR0p0r8XxA\n",
       "RGkOWHMMJFa2K4aTI9IpHkpBbL5/PemHdj6YtycaM2axNes13wTA09CmJfuFW4BxgkNMUiruQJq5\n",
       "CGFSnC4qWWW51FF1JQJNzg2rSvj5PQwMXc3lsh00ZNAkpdN8ESZ3e4Km7rvy1F8BfU++ux3fxIBv\n",
       "TkAfHNNUxnHId+uni01UKKD+hxt5E9BFAV22o+YmWHcOe4+MsCfg0K2Y0XKIbKuxuVu55puUSIAX\n",
       "Q2OzsJ8yzdc+e4miF0nGsZb6S1+LjoXWEGoaYwxjAFoShW9q+xdt1F9MCoUaT8JLRliqeIuKstiU\n",
       "cyqINFFxnfoHHCHmG6oQNJ2JmsOdgZHrJ0dLuS9ry5ljpaaJs3IU8ZHFkUBT4fuIEM8xxhegUwCr\n",
       "CwJew/lYVD5p3aTmYIABKgdfBgz+n6YhD3tsb5XRsywknRT7biAa4FpPYO0QW+2FwwV/fqZaI3p1\n",
       "5Ne1Uf7W1D4/reh5FXmAiayORRf5a0L2B0ZBhlv//uNGjKFstKLNPc0hJtdCWgy5f5aKsv5waaLh\n",
       "s/SxdIxbCe2Y160AAAPxQZqGSeEKUmUwIJ///rUqgAAwE9YehQxlT8nK2j8sACXK3M0RJZ0jyfai\n",
       "ae4QXmeqnMGlvAgNG97/uY3306doT0+Yau3osonbmNqxbcKwZNJtMWYK2sQ5TEKA+kIHL6O236Bp\n",
       "P2Kah5IHwtxaZZbT2AyY6dmNglpJms8T3VdT5/Rp+MUAV1B1JrugAta7IB9GkhCEru/wUweAzV1r\n",
       "uyRM0JAmN7QgXrBYjD2sIUgv8qFbvuO6r0mN3AloPAgPeDPKuYcNSCyE7uZ4Vcv/PXGL1cxwyZbZ\n",
       "bLD9NCKqGjKCIPbk/9MTLdlhByfcsJPZyOUQBVEJpt2220zUX1H4PlK8ubXgtvIJw38P2GvONaDj\n",
       "gxp8wEC51+M9qNOFeXHEKOpUfcR+m7gGoV70dtfAAFyuTvp4O7pz+t0rRCuybi6cD377tcLgKopU\n",
       "Y27Hr+7uGqV6Sa0mLAiF7Yyb2N5uVAz55D54h5ETbZ+PCWiH53xpHPh3MD/Gtb7kCK2s9WwAEBp9\n",
       "eWye2pPyg36QhLZD5zoAGcC7/vJcy4HURL6AmWjwJosm6En3Nd+iEjtQi7xiAKUs4icCRyZDFYKM\n",
       "TdjDEQxRBA/JggjyH3TKJuep7eqz/2htvHyNEwWBztzIcEzRVV5/tAnH3cjlo4SYw1n8ew4wI/XB\n",
       "5IxCAVW/PNVPLdqZ8o0AECnf7OcxxYC5JA0VeXx5wIKPuwp3u/5jsHOxVJ8rHJd8ZXr8s7ptfO/L\n",
       "+KeIsBGDs2tWflszeJ/4rVB7laKz8QzbzJ+4L+0pR9cofjSUw+kfYdh9dmxNv+hWaEcCtT4eW7PO\n",
       "dVB1q31f/ZLOtAvB5WuqEM9+Sp+5k5WqaGK6TnZ5XwT0q5Uh5Or22SzEbnj6RE9N976D/CcQ3ASm\n",
       "wTPkbPJ0pyNlTDXbYYTI5qw9o3esroPYTs1WkbkGdkZBizOuYxK3xcIs30ibIp5gN2r/k1xd7hQY\n",
       "cNHontrC/VNubvMzS/wAZM0Jsoi51lIISBpSBDjAgQxtJtlHzSFx3bZBvyrihZoI8ZgR8vNiJcNg\n",
       "RLB7PedQOpOzforogob9iqY/Mf7ND21OzMVNmkfkCkKrlYFCCs+oRGz4LAXe3b4tM+qYslGrDKXR\n",
       "kYcus8p+0tMdJ1l6xZcp7/gskNBWrWxgknqCJehYLrRDMhh/raSpg7A5fXNCZggnXi3C8jMIvVBz\n",
       "uvErH2p2gGUZ+yqkYOSz0uQCHPVTcXN0Qe6d0ghN51x/4ZiR1orm5xd1X0hIRcGWPiTpCSISOmDt\n",
       "xR98ZHV4uaewEdwKhE3f5VsgAAtRnFrv7a9goCwaumcSiE5vA58Iq0yCvRSL1N9wmJ9sNG4jYQAA\n",
       "BxdBmqpJ4Q6JlMCCf/61KoAAcnWlf845YgADL1LM3o6zDPQbvCkso7x9mzvBjRiqFxylFNOo7EZ6\n",
       "tlfjt2tUFU8dAd+fkmmpvqZbiyptK8It4BZyVPqiqU3YAC41fgI3f5x4QE79swsb+35L8sGsW2js\n",
       "VVjP7OrI4PWgC8944bIzptiHZFN3ZtAUQCBG43AbEsbl0PB51m4mtZBvTPzLO4kK+G+2WVopM4IZ\n",
       "+Gl5bG2/0lNBs9Zz7A6f5qG5BvTf6OXR5rsICTqngcaFeILFAqUQKIlCeH+Z3Jl9rMxdPcaGXcnm\n",
       "H2cDAkbHf2Se1rTTc1jWTYZvcbIojlJMxvIW+Unp+wXjtTF1JLIsRAXfTI26zQrwQl1Nz7yuZHEJ\n",
       "a1OFWZY0YJCICXzT+0ckiAHMgoCIw0rV9mCAcSepl8F/8HeA4epzA3hxJEKoH52QOXaY6vpJJVEt\n",
       "xpcSCo7DOFjTO0FevRazFKOc9Z1LmF7u13jUFPbW20g3FYJyTnkV41+sqYKOlsoXtr19i/vBLiQ0\n",
       "pdUM0ilVa96CTYIICrnCz8hjG0kvn4cyH0dOgA8+rLzgFNmTbRErbsADKsVSlWZH2hvmctLXKn2X\n",
       "oP+DQhP9gDcH91Wt3/MMVKn53EZNerA8zu+eoCMQimC/COGGOCHsj4SHMs93keOck0XkhixpmkG8\n",
       "+z3Eg762lWXp4oX1wqmVynIuLyKbeqqUXN1lCbrv+R8HbyoujyFp8hsA/6JiuLbw21TzYH89FRLj\n",
       "p92VUCHPj1SHUx5hHJ5MNvCnSuP50NeVR9NxAVkMGvtBVowXizuc4gLTMK3TitmVFkagLzsRQ4+Q\n",
       "Bbl3IH3/3qhI12bbAEOTuwJaSSFkE1m8yipTs4U2iIoIKLZLZkF7O2GUqyYX/J6lk3W4yosE9A/5\n",
       "GxWkRaa9dm/+Q4MyeiP54jmEBkJCSfHwNcGk5uDlvmn2QXvD7OVxw/kgyU5D08aOgW7WCUWumMta\n",
       "nqHfUAxWRHhkKnFuuPEeGunEKHwsoH1CDhj4jFozWWwxC8shKlSSUCuhM+ObmMSwRUE6uPimcEaL\n",
       "G+rm7dYjRrSasKeDLK4KcjPw43lLsqZQbxoYse2qYKqIjPjieaaATKZBML5d9c/XGCJ0nijEc31u\n",
       "wBoje5mayOvVtJLUjsT/GWDmTqiYnK/o63eDjBJmfQrD0aLbresA5gUdaiYUVbxc4JlZ2Mp0bBsF\n",
       "SsjsCYorKvxzGyvuR+MbOplK7vzRSsH3kc2pLE/4Ecyh6DeO54xA7w2EterTwYkaT64595Ee4paJ\n",
       "PGkIrgCBRzzcjB5a9GtpgTJolUAH4fh+aFbqbwAat3ZzHgUsi1+RJ19YBNm/VBScmdYHGCTD+Imc\n",
       "36crA4bI/TzVk5tOOseW8zxXUkOw/MO55EX2LWGOymTqsNMvXeLhC2B8zljHksyRpMMWkkQmR0ix\n",
       "pD4yPZrWIrq2GawsDfhMNMKJlmDlKP/5zVn+8u4eyG+osVb0zBQMVXq8eIt4E4w0zLOe89txW4cf\n",
       "fYicTOwFMNrUCSVKfPBprZimPqNuztgFOREMlDnPI70SWp9pFMSrMpJcTwNiqI/MJktHiK6cIGaT\n",
       "xU+tuWIGKBu0Glsg4QYeXfLV3vmw5fG0osYU31U3VAR9wJmVgBVPbuaevqxTSyCDx5WK63vB0/iW\n",
       "5gGxuoijBGxzLq3tOPGz1LRWsCSyk0hNDtKz6jke8R1uBxEjRhHuN4wRZhXwoM3JIErHnJVDeIvU\n",
       "M14+m/puFgtHGK3te09iqgD1LrC6k0xjaVua2cZo42FxwQClP3xAgflCOdA3xQ4K2yeQbZp8Ak9W\n",
       "snHkqdnV6+VY1oaWqmJUA/pU0LyNE07m/XNegEHoHc3WjUPCsmR4o7k+hJDyDPK3jSCI1IBzC+qt\n",
       "TZuQKnvVF945aJsfIlZHKGiz6UWir+y3gNwis9yV/7Fv3x7qkqNtHG9yymzmWu2/i/j2GNWoDdG5\n",
       "bbQWWscSF+M5ocg+yMiFUn7Z/fl6oCSXx2g8WCALCaWVFEgLK4djBcqei87pMj9KdqH/ZKAMtMZJ\n",
       "ByAu78UzgJohM8ObjRyOVc1/IgU1AEdiiHiKVvuMgf+ekysQkNpbtaiiIqDIhycdJCu7qdUi/4u+\n",
       "5wqiCE4WQzxxszxoL9poHj56iSGJ8Cu+jQz3rfjG0JXl2VxdDdi3TUEHFo+FJ8zVaqNcVPb1zKcw\n",
       "eH3X37lcxFD0ZgJbMV4gMJZIjdUGznNEFysAZKfdKKThxG04is4J2EN7FZa+7u7CzGo60xwkfSiU\n",
       "UozwCkYFqZ3kU3yzGssOPH4+3LqW39XyHJNPKCBALL9LzgF9YGKP6m5X+CBDiOtfarc63K1SzwUX\n",
       "E4FUQ3IWN0FGoBvkSI4OWV4H6CY1NajWwrs//Aw2W3j5/xreFWspjPniNdUmxGwPG8MAAAQWQZ7I\n",
       "RRE8EP8AAI6ts2TGRXb+C+IAP6ReNllhGxSu0ZDvhBgbrLAHmfl/yP8xyQlymL7G4eNS1+p/lrJO\n",
       "YasoWQsu+x1suNG5sb7a+BmLHYA3hRnlifycyNreqhFMRaa34u9mS4BfQVgIzJIOFcKb9nkMza3I\n",
       "YCCw+YSducQSTZjwm/3Ie5U7hD81Ssh2UNsCwLbXzpAsHsMGQh/g1RwlJjaadCM83yQkjdS8Jy01\n",
       "2Bkxa7ZFygvXUOPvdj9ZIRmfDw2gwZGVk+ycZ4UAfgifyec4Fg/bCD0g2Wg4hkxF8RTpqkJWAQqu\n",
       "tqLNgneYltKgDo66nM+YPewN6FfGvGkdoFC0XgbMQPmegtSh7iVvdNau4Nqmwy5X+BnbsCZ+YA2w\n",
       "BAcQ+afGmlCsW1vYMjUJpVwV44iTBNDVR3tC69PEZEN2ey1wPiL9VfcFlnEmE6Wh4NZG+eZ2oN8f\n",
       "QiAlj92RZWSf29MUqsci1SzjyX2xyoM0ClnwSCmLkEH84BrqjOqTPGLBv11XpygUODSUjYIPKWHV\n",
       "mlamphL1ivl/qa5xqiJ51IXECGPFoI7VX4+OyH+cOFPSqiglzYyAvMeyCjbPoMN1u5YPCTnzXu1W\n",
       "ea80B1ByPV3TXjALixxoYcbAYsBUkaTUkcWkRXBBASyoEY+8iycX28HXaqTJdf4s2e/CbVDWEeDn\n",
       "NdkAi6lg+4ERoGjTdSUhBftVPIr8vcepg1fnPIruv9V7yp791jCjKm+H2J8WCnO2UnGIkxK1k8C5\n",
       "D2nnzkDFnJgzrPDrzivHmcW3VFtnlXOED0r1BEgNUecj8pgF5GS06a+X9LY6ky21wBFNqMEfRYDl\n",
       "/NRWyRGnLAmYFUtjc7I13lvglPgAOrw89lHo7ijLyNfNFY5JK1E1c/rLiJz78N2PENUANeMOyIw7\n",
       "oFNjtGSifCH5UuYCJ/ep2t1hmGH8Sp+Cy0Hqx6RGOXO7x27KMijS5HEsiuECRZQWufhlcwABjuns\n",
       "oikzcmXYbd5Mia7FjHt3xhQcqmXSGIGongLNi/U/eA0fgECPPJyxIffZRQw/+QFKKDiyKoxky8m9\n",
       "jttrgbD72EAWqGSv3lortffgQxSg5qyt97WnhcuNMJkfdZccnxujyxPqB5KxdTrhs2G/FzEjaC4r\n",
       "ZI4mqQybB69i60pMLnOeeeI7kdqT+Z2J8ihcnxEiD9uMxQ7DPuL/LqmWnzdOxx0q8ngvHixT4+WP\n",
       "xLEIySSK+vsYOEmYiC/SZjB8GkvGVQ1SO335GtHiI/p94jPGdeqonUhSHf62BMkLZz6Jvvl3uZM6\n",
       "WrCmSVRBwI0vqg3Istmt8LMFIcedamV2t0maFxqjCL2jAQ/cU5Wu1g9iwENr2ZtEF7bLBMEV3xHe\n",
       "cSEL1tZFBzR1/iLepge4ubIAAALFAZ7ndEP/AACe3yYHjjt/oAJymDKGItshGGU4FfPhYAiBD07Z\n",
       "DobQnZKIPrWDcLJVKsRfQyuMeX21s80FOoDDlDg2bVgn4+BECDqN57ELZFMge/YeOrlOM/0kyq2o\n",
       "4d92twgG9h7qPU8JZgz3o18YMsZrxGDOscQrr9hd3FcSq5mRgbczl/A0NJIOpX9OUx00iiVSZAKP\n",
       "q+E1OBHWW8L8xDHnwSWlFLE7KmvdI5xN7mH+UJdrbDKW4RG3JtFh75L7owtTeRyARuRH0893GHOJ\n",
       "TN9t27SFe7FfOppT3pcSEESAuybav77yR30G57IfCeKorWnH7CT4xFTLR9zd8eVooerL0BYZ6Waf\n",
       "Q1H7I/QMXuSMrCUJQl1DbEXglvbj5h1aa45ugBKkOd42tRc8IYcD8hJZ7y5NkWZdx0RktLq6rK0V\n",
       "W82qIXvLt1Qgql5HXM3EoO4h8ReW60tBbc/eiNZjBgXvtuquhNOccriAYyIDmqW6t9uAcI2aqwXT\n",
       "tqZZHO4h1cZEPm0af8xCXYmqFTPkR7EtXhoN3geYObMYgRwre55Q98AHUawngn7vTQ8a1tUhE1i0\n",
       "tjMghesbjk6kn3xu1s8hpTavE/0qiFp+JI0wFkCR0+IzMaU5ycM/9P5X+CM2EbCC26xl6MB0EfcU\n",
       "WPVkMhzT/XiFwCf5+iAvvs31y2H0DHy9q9cpVuAkx82yTfVIaQYsxd8+2JbRMT5DHL4JDdjscp6F\n",
       "5i0JdrPwRc3qI5QEmMHaUOOHkM19+ioxH+stm3TmlfRBxBbX3qm5wnfry1s4TH/qhX4EVuua7Ps6\n",
       "luLQ03gOItSgSEpAeKqnVPjpwS0g3izdkmmmFfdPPyNsAf8K/u1GR/vbyKXFx96AprTvaKfrqQsI\n",
       "UzUGpmzrgK+C4zNbQu+URDPsMkgyB+jbqdurXsdsKB2lKr3Kv3r7cEppRignEgAAAqgBnulqQ/8A\n",
       "AT5H3ua4yQAqTd4ATCFExMuyCktSVLKL/bU0hUcf81BeQRbGDZpTBojxn8D3lkpSNgtjNBQaE3Xh\n",
       "4L6ZhS60BNMx26qg3E9aEo6lSvSDTPVhPFt4nkYBauvpxS29fS+kkahQmguicU+7XVlMMzzTayxU\n",
       "4tH/PRGfRTBluxrRImyQeNabcumsYLeaNCYP7ivu9E30Qh3E2acjrOwzVsZXvpKK8KKG6/sh1wy5\n",
       "SItqJzcGs0KAhfHmenS1lWBEOMvc2XLknwcHa0G/tcJtMDWz9wSFPNXyARaSaeyVyhtLrdngk92l\n",
       "nx/OIEuW0QiS9wcmZKbFDrsBNw21zXWCDoTNzqZCbB1mr8wVhL/+nASBlk5vjyN0/JNmRSj37drK\n",
       "BN/d+XN0QSdNujTLBQkDUtFSrVPAXe1Xo8gimXBZAfA3LxsIK5f4OEf3BD/jLcCDge9t6odXd+X6\n",
       "Q0F2o64a1IDKpRTPfNNFL+PY/+SENR8TaHLBofAtKbZ4HemKPHb/h+Mp75TAo4/+ohPKi9Jw5F8D\n",
       "m7YxuiDCGor7+CY67q8U4a6b8u17zKicQTJxZnQFuZjENA9L/qvlObcjKyA1UMW0RsiAh1766Nr0\n",
       "yIe4BQJARX1cD9geVDzBMDA2355F+kHmF2/8tEFEzsDAQp3nDDzeU3OSX3GPIBAz5PE2R2TQhP4h\n",
       "lHpAP1WMTECRxccTo/Kjb3y7LGsWFHChNm6kTST3VMfcsJbvUuDMVnjChCRUCq8gy01c3/q419pw\n",
       "7XW/oW8myzl2au5698ry+qSLui8dlHb8TW3OX7NUPcWhOsDMJNlfcwYGtNMrEy8gyX1Z/9/3Dskn\n",
       "WKEKXqjt12LzIxl1xj7iXNMEwO8Hcbx9IH1bQTPW0l2Hc2Z8DrLNHaN4SKO0EQAAB61Bmu5JqEFo\n",
       "mUwIJf/+tSqAAHJ1kMypX+S7BgA4a3E7rLgnLcxobSchqP234Q0VyOHUMar5DgBURbiyrtEZBN1g\n",
       "qDmua1ehSdQo2RHQHnc7GhWfH47BrH/gdTxDnkQIm2F9bjdyJAc9JuVRyQ2VRlgJYEcjb10okBBX\n",
       "4HKn0fMxCVZB1nxAwZ69hz+WGYF+748MyhKNxXp1PgHc7o8W6FvDdNZR9NgfVbFwtAptb0Ce6hbE\n",
       "xsFKRdKrJ8WMh6ojL06NqAK6e2E+OatkB81V/PSPU2lssltEPk5AztTKd//NT2c1bJBjvGKTdtEO\n",
       "dgGhmVe5eYPthQ7LVt3QcxkbU3Wz7cWpsmOomlyWjrGw++r9fGCRP5fj3JnMjW6URTxWHpJ3o11A\n",
       "jsJuUkJHspW+XEwplLOS2gFeyrEiITnH2vy0hQb8Uo1D9isx8k4UA28is/OL/sXAuxvA8tFnLgxr\n",
       "fOm6siVOV4+2W6KcQN7lShtfxsliHqUfq4ONnDtmtobJ6sDDDmwjqJl4DiNCociJfDEVvSdbwvWR\n",
       "dHM4q55szves5e448WVhaXLcClmHN62KNhzn6zAqolNTu/y7tMy7mWqORrEL9pwIsS02PQCeqtrT\n",
       "x8XBmIYHXXZq+Wdza7rLqQ1taXuoDuiL5eAlQHxRaPxobyE/Tanu4gpgkg1JOiugtmUPS35x870g\n",
       "ydXMLzZb6Trxsj9zgAxgmD9N3Tk9hwuv5QFMIJlZ/KZkQpHmJ372oLv/xK0jCMaoB4LbD3BHToWm\n",
       "khMS5ywEykUdWC4H/QdL2yXmDyUEgJX5gzfoa9CdGzXx5MBekQryX5fxwy+UvEq4wHanFXWRWd17\n",
       "5zmbLNo4pRjCXtnrYMgu+xuLFVo1P6wuGzngM0gqGjsnKVU2S1XttrlC6c4DhS/pPGftKJrthEeI\n",
       "I+1GgT72xs4M7YDdoqqC0MfUbxM06nFz91y4iKVMATCX/fYF12PIDG0gDBMkl968sCWuxEun3+d/\n",
       "Qmc7zKX6t1SKipQJgJyQ2bn++6Ge9hL6MAmFvBFohjR8LbDSGf6dsS/cGBfzS7PqjTYM0DIFZ0CQ\n",
       "NAhrGOwurmSHsN60mVDAZjKCXqjI6D/VS3rfAr1VJ8eGfB8Yh1oh8f6SYFGrjgs2HVHpAHOFPg6f\n",
       "xLmPZgX8jLGkPOxPO+1VgqWHmTg5TkR5XUKPJ6efr2ho9X+bhwSW6woV2GucgTsgDuNsldU7cPKW\n",
       "8u5EajEuehm+8g++InbmXxC2lbzoxWwT9QHwPNCYMa3j3LE8pMl95SOeP5Pzg54uqpwJL+P1EPcX\n",
       "wqkzDFdlaU7nWa2B35NVpkd29Bvs0dv/A//2yiZw71U0dRkiFWcrzmb3ATrPD3SEOJ1KeGW4wUyi\n",
       "81x9keP/uhhUZ9HELx27LErhGbOJTF2cMKji9k21Xs7s/vNcQs36vZt6hJR0BelmOS3GCecyCp+o\n",
       "Ba6164CkE2pNClRBf8F2uIniSSfqHLJCnPSkF4VZanpvGlI041tslTkQWOqSa6+XZnzynT2JoVC+\n",
       "kKvRqu/XbJ0sDXnTjEzQXEbptxrBTwpyE1uF7ge0i0Jl8pWzS8FZMk4vRynzIXya8AHQJ98em7pi\n",
       "v8/5u5I+5I4mxK/5rBl6hXJR+BlCLA3OgJWO1CU+Ezy8L33sic8HQnOY3DIKuCCLIzn0F3yk9YHJ\n",
       "0lEgSztc/4YL1Wwpn9JaehVrSx95qCB0SxzU9Ce9qjAxDVtcRtiQovu/36yunHA4E7/XCMY0y6LU\n",
       "0JsRrr+58sVh37LfyQTR8gMHbjCFkqHsPC3gf4LW/aCrpD5nPnmRQZuw0OoCjaIVvwSENALS7KCN\n",
       "KTBnjqaNsYX8IquOQFLpZREOaD0Lg/HcVSCnyJeJXuwVEH9S6zgfJpjIwQ1K0OG7towWWd+9YYgz\n",
       "suLJTK0+rX0zKEnzi6WQyvrjGCDBwMzdMiMjCtBvf4Mg1QLcZ4UM0ZgyC8QK/PwwRNoc/w/tEXsJ\n",
       "q4skLjyqerNgkGXDwr1WEWTx2SA4gdzEynJLDV9D3d17BPSBmAPQNBjliIr4JD9Q8y2IpLFpEg6w\n",
       "WAMCrXOt1eRgeINkuNUnzqYBdgwt/cDn4kxKYyNyfP6/XwyHQXccY1eJ2K6LdDe9OrAC05heBkzi\n",
       "36YX9wkf6MNF8x9nLPhEd1BVG5RbWBOy8vvc/Q2J61ye+fYve+8Ft544Ry4BMJnAkkIUz9Zb6LCq\n",
       "WsVpUVVFe6OxVT0Jl9KjN34LvmvsGRpok+JCaMjkQ7DjmUDjS3Y5bS/y7w2fa6paw1RJFLQ7mayU\n",
       "xicOyBwsl+8N/FamUkQp9F+N14FnUJXk9FHpmnDwybUAlEqISDqdezawr8F6V4eXN6PCV6dqabWb\n",
       "oqOn6w216d5qMTor06BULlARz91huQ6dcT9+/8JN2ftwRq+DJIm7PkqHmKSLjTqmiSkVk+Af+fNq\n",
       "ia2Cv0yfyODzJfq4AY/scOqGNRktsAYfQlI8OSs5Kz68yc+DnWgtLiO2Mrf3+WTChT076YyDF8gv\n",
       "aTQalrzSTuYw5t1rjkbCFw5g28O/eIxXzmsW6LbPHxrTG4u4HJqrWTEuoxIwVzzR6YzVatpbmHJy\n",
       "myYM2Yk/D8mcGCsAlr27aY3OGUAAAANjQZ8MRREsEP8AAIzRvbxbSWHrg6eACWOsCVlqLDiNOqQn\n",
       "zX+g4UOBbP6QjRh6nRwfyzeaWivye18JLGR3PPfopV/D0wxic+LH8m0wZKWr5VhPzPLRwBoYwA5r\n",
       "Zv7xfm+u/Puljp9oWIyokaJy4FJBCBNw2lJuoXNIXoZKUfPCleb4Wap+qAITbJm8A2BlDDKhcQ6v\n",
       "9HBcHLEpEmv12E+gjyzoNwTbFaHX+eRPkcDOJwvg4d0sJBk7cjltbDFIHnSlIsqSdPkKWH6Bbl9y\n",
       "WQMv8IwMdcAYQ91Mjc/wFDYXTOYOSEWU/QKwepJPsH2bv+mwca1657s2BftlxmS+6XL/NIqleAJE\n",
       "C960eD1I7ERl8XJKYSgm721gzt9B0uvaZgwExYY+KU5SxLRI+mKb5CB+ghWq02Dp3cnwy7bX0R/h\n",
       "peKqc3YT1I2UvoyFoQs7KCfDIsQFgTZk4A/jRiNX0a9zmlVTzumgP5O+1ZtlLahC9ZF14Gzmkblc\n",
       "dYQ44Ig2j2BRYp8qhZNJBBYA6fmu4Mh0ObI1/oTPTiHhsdxxIChdNsaBzAIRKKRKrSEOdU97zUtV\n",
       "yqH38Lwxd8oZuySwiUD+XFhi7Sd6x5Uhf8NEBT+xQBLX4BeXewlr8+LlB5G5K76Hs/021GEf83dg\n",
       "LRNtQ05KPgpbK3dxRZnqMm6aPVT49dZjQP7yx8f0LxDNYIp9y4Ev1HbR8fOqOTh5CRSr3ayDEtfQ\n",
       "2FVsRp5evUxl4yxe0oqbE9bImW0SSvfXXqatGAIcZFAMcw78l41opusIHKuPaLpmfGJJnLHdA5NE\n",
       "XlycfejL7gKh3u/8ESBbXTKp2seIK8yRqhSA3zAPOd0gcn9DfjshGH8k2chmlqmjnByNFGOvxF2m\n",
       "tpG9dEYtRz+1s/EXMv+2yD8uxi3cvoGb0bleOmRW59JPf31GxKurOz7xxVMALBInHmDqBBtAzXIF\n",
       "6kGYc3tx8sI1Bx0Pd8bcNyxJoB+auXE7h0u0jggMZEH9oovqOltkGNDqkAYdfTKZCp7Z1WPwvHP6\n",
       "+JVFBg3/sGXHD1SXQ/CV1c8TXfGF7Hn3yr8b7fe5ElnqBoUwIh/tOzOuFhhV4E4wb6I8CGI9bgyl\n",
       "ESO0YUIEZ15kxoC26LFFzcjsdoLmW/yQ85vRfDzBF22Q85nEAAAClQGfK3RD/wABOavwc8OBpbKf\n",
       "QAfNZZt/04WfhOU926RABVm0dOEZBy468WtWj0CshJsIZsnbJ14JvYMzCu/Ustjh8wAQmqYax0lb\n",
       "+V4brr/VBBVW8j5S/Zk41hAfa/3bwwJstr9tpUl9Efj652HBxc4QGROTsG6M/fybeloABVu5n4zm\n",
       "DPYpR865cQ6LTFG0CPmAhDLWRp9/6InH+s0VMw2lDj0G4WfEgfYs+76D+L4+UyswQBITAxQ55e5j\n",
       "umW33Tlih/lx59sIoNe5FdyYhZMR4XYcDeGHU66BPLn5SX2y0lAN6RKgDY9Ua3i71rzMWdUnAhaM\n",
       "0MKNGpAV82MM+xe/E47WBgApvfOY+d+5PwYO1GSMnAInX7fUaKIU+ybI68ZPvoibiGyQG081BsaJ\n",
       "npA/3gYDoVSrIDGK9VkMQ7OtHlgNrdIZH1aGeMJ5HDhyRYEd9RQh/3zKixM68hWjigxUIjOfk5Wu\n",
       "G4ql+cXN+fadhIbp2c10JUFtKEC+ICTFkuQ0hOwD1NpSsjwcBb6wWPaO0ZawTvVF4Qj0ZvTfOWw+\n",
       "cg1oXETPGypa3uyugfybU6IY0yaAJUNkaCesXBfGLTFArk5JEFqcqAyFCbIZC1Vpa7JqEeZpEcg9\n",
       "oveopa8T6+zfmZJ0PMIO5gdOIME6ppRKQCwmrMn7S+jIaoYvwsccUWP1pZFaLkj0LUfImSP6uz7s\n",
       "rkG3EDN7dNBKGFfC4WmALbgl1HDbEPbR4/+Kuw2iWTsbqwQ/Y8iCPNXtZq7W6/iSzbAq9qNxhDVU\n",
       "otnk7lDs4+MfrZOA1C9zhl7AsDwqdbS0QQqz8d5nN11w69qRbJYdosDzwK6XuMQwvDWjtWGxqKez\n",
       "8jnLR50JDSzSeh33jdCP/ZEAAAHrAZ8takP/AAE8qUHAyp5kejhlizZnEVLZgA12R2Df1ig83imo\n",
       "arwiHOQ46+RfecFS5uMJpcg1n2y7JQnxn6jvsvY0ErYoO56lNcKqmA8Etik3FkZQGK/hgMEy7XRu\n",
       "Po1IVynF+qGUTwPncyO6yTfuJEauq2WetNiATk1uXvJZOqODrQOoCjCNmiBmlQGf+ua/Im5O4lKt\n",
       "wEaSi0Zjrp9jDVRXE+s6s1WAQIBBKDJt4khtwYnQbjAGUzYxX0MGVKo+cYZ9t9JdtPSKWkDh0E7A\n",
       "xty8XufOYlE7cMaD9spmDJg3W/oAMFoC4qo3lLCcO1nZtn3H4daM4mh8f/l6LS7Y1JEmyt9U05Rh\n",
       "JML4kPJc+7RIlf0+fmXFDXiDgEl9v2X5ohpW2zuQQK43MwTbhC8Ey3VIma7Eibd8hY6PyFZQ43wA\n",
       "NnMkM9lQ9/N9CivuTBAjt2I562tWW63pqSChyqSZ5RSkXR0t/PBcnI6HxGAup1OuIGytaPhwh//X\n",
       "GOaS3S15VPH9wUAh7NhZZx6tY++I4NaCBT9WEw5V6ZurHeqk8bN/4MMGG13Xa83wfrW0noqwDz48\n",
       "H2vOZ4lmuKKAVQ+4wHg4HRHZEwXfDQqIuz8zV4LqocgHbBGnpLNIV1WH4FN0q+xW48QCNwZhkGEA\n",
       "AASkQZsvSahBbJlMCCX//rUqgABx452sYgBvmLzr2oZO+6dkvRTp/VUMJN3UEjNqulZb+wTWihew\n",
       "FWrOCU3khfaDbI9oZtHWlhC1emps9popAAVtv6xcPP1nqqn+FNjuusCBJjxSMiRkdIGQJNUivmvf\n",
       "o0fp/rjZgmEyr1cAS9gLPTuSAsSfH1gB0DEjz5mFdPfZcFepmG4MgOeycy8MuV21psGQhqWZ6UWt\n",
       "3mHW79j5apiOXwEJcX2ALNSz8hUtVXmY+3yVjtdyYOqWJyYRgazMpeUYEUIn9LuFQ0+HTWRbuau6\n",
       "n7zrk6NKLUh8BVcfgSvdy2zYr2gUOZP1s1jKjK9NVWKBZJ3ca6QhjAbrV7Bfo1w/4FEj4NXnsTm/\n",
       "rh02D5bwVfYMi4Q8EzhT3QIPXmdUMrw9ieVVdC0QoiZp1iT/F9Yi4iIj+hoqdolcwAycx56FULT6\n",
       "nlGO1icAYCCuYyfKBDCTuX2mSpmwHdKCEPSu/p5Ocv3MJgRt24z2hJ4uaPWhNlXeRr1EWWtTf7nR\n",
       "gGj9XDqvy3J9+wBwuKA63r9LYuPEWHVyXG+mCgcEzzGJdJJw978YwG8Ltw+zvvegzgHe6KrCx2UF\n",
       "z4kSh/JKS+JrAD0t5dsL5nexOfAL1yYIzPsCueAeq24DVbMy5aZ0WNP4aYFBWJkwF71+8kQL9jDD\n",
       "ghokxG7aQZfyUIOpEE55hge3BiedVBQ1jZ/FgtOCh7Sr0G4MRuJUDKyHV9rIo0vBvlzfjolpWJZ2\n",
       "1lOpbOoZTaZc6JEWMB50g0Z5306ZDs0ZLljEIsCSW76ihVB/5Y7y9GL5i1Ur+uRynk6dsXeUZEGk\n",
       "QgkJRhkc8if2yt1o29Mw/0Zlw1WV7NtHbwXM798LskSeNQYXHkEAs7v6CdWNfzCSYigk60HGHpJS\n",
       "Ukx1ppSpThLN064fRmRYwsdDNm0OoHOzuFfb4L78AoeV/gbtlt3zGCnwvQLAlfHPCOEC0j4xJqe/\n",
       "Vcpu18YmfBnDCMD/lfr3isJVdxX+4FLtKwZENpOWbsJti4v2gIbnWj+JU5VAASk2kbYDXLgu7K98\n",
       "ht7agt7s525g7TufI9s7c1mNAVsQwWG7wy6UUHIESOHPvaYr34EdzslRUXpL2d9lUZ7/FGqB9Lae\n",
       "STMWL5PpgQD9Gwa/gMwlh81j3g7QfzUg6poeCvrgaqOt7wo9nwW8BX0RSkzbciys+UcV5j7PkBvS\n",
       "p5uiuFYj+j5LqEI1IzJQb7G4gG/X8bS/cLvgqRODUSCY1fK0YtDd5XERYlyPq+S125xEcl0h+Zt1\n",
       "Hp5/9D4qc3NEDMbUKYqVqKk9EUQfDbEpCYYddomoW9EqsSte8uE+B62CM0PPtiQdt1t3BeEtrRWx\n",
       "hrpTRsaIUpfNbe3udWHv9YrIjHUbckb6TJWl7y3IB9tbyFuz85e2ZkcBSv0V1SzFsVd70sdA0/ox\n",
       "LJFxJSWJAk/uthhNoEU3LoTt8UzTfvGQbD4KQkBO0JriaLWDiifBjiwIJjOk8o1geuVGjcdEJy+g\n",
       "fGKACJ7KURuPQdEGv4GhJSKK/d9SnaRthNy5DToPLhqSXqCdaQQMXsRLb9CnVGp5ucEhAAADvEGb\n",
       "UEnhClJlMCCX//61KoAA48CrAAlreGuPt2Q02bh7fgf6U4tBcIfXT10FDoXqT4/QxUMmVU1MCuOe\n",
       "yzgSU0Kpeemr0QnMpl1JnGo5IPUXy7vYGOvgbMVmN4kcNYstJgfu57OBJSeZAhGjLNXXVz0Iv94E\n",
       "4dRQv0g0StoAF3fqM/CcBcYd8mchVGVxXOBRPh2Mj1Y6OPlPD/b6vvB8rnrewEEMUfl7QskOXShk\n",
       "pha+gjRxxgtXMRw/gT6ebo7mwA8DSOMWlY27+0ckZlQCqa69yiCOxph4MIAH+VoJ3iIQyVvLcQ36\n",
       "1Ul3KhDqdW1NCMNo5nxO+wW40B2ywwj8g/vST0kqzqSqz4po3BXhPxXVhvqcqzjGT3r891820ZE9\n",
       "SGQe5I/T8BlL/f8oV7fODWigtYSZu1Wg6N7KE0L5fT5pDzQng1Znha/mf7gvjICF9sPT1wp1AIEz\n",
       "y8QQGLxy4QNk5gThFYSz0rXdE9hgm7bs5nOsLPmleTnFmdJebRZPim8jC1muhkVdJAUjc7VgCIBm\n",
       "5vGZefmoiGeo9BY9/D4A1sh3RxErGi0+eLcU5NCT5MZri0xUQiEEAftT/2eZ1i/sBhSOVWeIGFS3\n",
       "vlqIWbQHgigMKS4emLbuzG7FLk2NBBtz19Ul9KK4b07C2HqndPRBNJ1WId8QIlb60o6Uxg6yWtFl\n",
       "rF6i5bjLCzztDmIZFyQaUhbuhmztwLzAjvqnB3PCAxQqYp84sKHjEvm/1DtVcmqxT5MzN0J5OmzW\n",
       "CmsGFqzmie4/R6rp0235UX9WXnGjmkCEu4UBMh98Lou8Ws1l3vx6JZ0wziwDemHXrB4m6ZAnlR3w\n",
       "cUEmmD3srswPP867TJyBd/SpggBTzMQ6ZlZCa2sfUn2Ykr22ORtyH76A7h3rr5Dkfyx3KGzWf1np\n",
       "mGcc0aaetWuTZs1KNc3mr94Ek0fA31PN2QPaWvMLevC75L+Okd1lWV8sYE7asYRYCXnQlFii8dwV\n",
       "Bqvi2SAdbv4VaR1CGyDXH6Hh1iiQYg3tmnqf3LZcKo5UQttp2yHhUyS/fWd0J5OY8UbNPIAukI+U\n",
       "1HzIVXgmPkYMi2epN3s78D/PBHHTR8T9TpFrNA5QY1V6QvdamlhngOemMOKcqW1X52g/xnIWvYaA\n",
       "AdlE8uJWpS21Wc4DNu6R1uJP8F8FOZdbHuxpybPFWkaJdsGVuGGjNQJ0MOIeHx5o4FnhzP7p9+uU\n",
       "Rw6CISSdLZUBBZZWdddUlORH4Nwys5zjceB15v+Iv+maaVb0gRibnVbsAAADyUGbcUnhDomUwIJ/\n",
       "/rUqgAJD9qHD3smBgAhVSvEgVOtcJoLf7rWXf/pHXyQo0rea7FW1z7c8KNtx8u5Ir6FdxJlwn9df\n",
       "aWJXnlZOUuWszRg9sOdjaBQhT3ErFN+vDH6F+c1f0bd+Bo/nn434b9KBxhFoCXjZ4KcuiLZt5pkP\n",
       "DvzsOYqQMXye8Bc+f7ucuBkXtqXjEPqzEk1DDhLL7NFTPHnKmvpfEv89fCd+58QzDY7XwS/7sIlR\n",
       "ucu9g5aU1YJ+Ef5ILKDIwhrZoz8EMX6eG3lB8bpurw3WER88doOh75ZoLSTibIaRnr3xhJE24KFy\n",
       "SI6ORacwUkquTJqSV+HF/ZxWLjgT/fMWw6HPrLDeqNWH/vJ8eqtDLCwBzDoeOIl0MBLWBXlhoGBu\n",
       "Szl51I8mea1jz2cH7t61gKHyixW7k64SqYwxMkTfLNR20nwrqvRGk6wTO04mdeGS4hgmZu+fazFY\n",
       "WPI1g8Qwy6ZyuetZ8FxKoZ/vHFCk2LMU8mhthVJ2ZZcETzNIzVq33qScJ5pyKPZCPRCb96oImL2Q\n",
       "g7STULYHqWYw4Q5mPkzCwq3LoDGXvXeVGvz3ZjnMAwZabK+bHGl6PRXwsME+qpwN4d7rFbE/gRUf\n",
       "NhbW7CKVUcAaGjY6jXWgTMpmQ1vFBWMp1tCrepkKXnecYcEsxQ5UNRrAACnH9lTLKaWux56rSYPK\n",
       "BxXXLWRXVlXEts4+2gH3jsBKF8lHI0RQGuGgIOaYESW56SZ64sqn5LVTLPfTi7B3yqBsrlN/Mj0v\n",
       "QI5nX2B9WeaFFugR4djnVl2X99HpcNPe5i05ph6UXPJu4WdNgtlJAP1hfMlSqM6VO7PSbA2t9LQ7\n",
       "hrDMFwJF8FXnmSuntr5OWEfoSN2m85F91D8j8fBo6Pv8HXKeJv2+wXSF+xIKe8ojj43mSwNLjlWf\n",
       "YC5tJWddIf5HMaJJue30m6sLjSerN9nV+VIDVPjr1WDvxbhDeVnJP1gwELY4ZCaCQAJL7HucwzJg\n",
       "v6OAcaSBP/ZirPA3Rs45WcToUKmUpsClrw5b4Vn23kfe0+UJ46xYEL2iU0O/tQxP5Z8erIW8XdSm\n",
       "9568oO8YrGVfHaZ1SNy1c1LicAGg3IfLm/lK8iCg37fTj96/SYdweoViZsi/LcZB0e5iVkItdskn\n",
       "wGrPC/HEpHBby+Bd2a+zJkGo1iagPZ4/sl+yj3htyHbwo/eEq+yAdUAaV/r24LMTwYAIAJBv0mUx\n",
       "giMTDdYaEUyu3EU8m8joMFqkFo4y+rD36CvuWpoTX1Iu9qK37gdSNA0g+tWwgAAAA45Bm5JJ4Q8m\n",
       "UwIJ//61KoAA45yQVrwUAJ2vevLOdrKwsPK5Ul5toZTFJGq+qPDUfRPNw3pqfP39hQ3T8B1pN7RY\n",
       "eRtwsEurWsWPBe10/RnMOkrvhJhpkkjPJs6Lw5fomggQNu8m4MFg6NXzB9TMG0vjk3NtJ/8nTHpT\n",
       "FKUbJzM2ID5FqFsXfrPPuvo7AuqLSB+danmAzcx/tXLG4Itld63ekfqc0vzyJvwFO8zkbWD20SId\n",
       "3JNbwy8CaBNggV8wB71MRBgaHdPFBpZlNcE+M3hsfJbyszI+XeXloXWPLVSHJM+A4NKjj16L0nZ5\n",
       "/0CDr7baxWWJ2VGlSUh2r2rjVpmIk4/zhCKsQb9OnW03lNAcBJ9u0w0PAN287Uo2BFYcbJlG0ITB\n",
       "SgD8/cC21sP1e1XD+LTtwFc/AC5JrnIc2A5S0AcImwxjU0eZ+3Zv9quYgwJS01c++JYGubudLIqa\n",
       "OTGOrEjVa/jfdYG/XNIMYNGnQMDaGsArpFaXNrWrG+dqd/MkW4IQkHRPn8V3uKYwgvoCkyZFEs/R\n",
       "zJJY6YZnDaAXjLMKr53TgIF7N2TbWs08YwNIKfP2e+xiMWRVVKyjpH/MFIf4MGaQ9Lpvxtkosm6g\n",
       "vBKS2P0ibZXr62KzEyUn5AhBsPq7gWDRW6iyOx7+K83KIxd7acfq13IKNOyFtpftxLvzjP/xnaTE\n",
       "LwFAEPki7zErT6QmNN0rTkJQhal3/PDQuJwqBROcVi+regQzSf56XqIuZtsNvmWdfIPg9zGfr20f\n",
       "bkFF8SiHf+Z6nNorA6ZyFxIhyczlr2lWnkgMmVFpfvjRaqr7EG3P0v3Et+bM0Ga1mVyQUtjIf44t\n",
       "BO3511q151jYSfbXmKvY2coN3tslZTESX6P4Kg2FPKjPCnSYwrWTYj3aWNfbG/v2pCsWoAkdxJF3\n",
       "zm0Lo3BTkMUKe1XIYDp6OPPZUvh89ERGLb64pW9qldYzpo2KZxEyCp3SJaiZzI2tWGIHI+F4XaHh\n",
       "5sSP+Nye4YZvYbXiJRXAUEbubO9hwg0CAgBeT31+Xfgjnttic4GOMZ7XtSen1bgeqjMUb9DcleY5\n",
       "B04MAWkw0TsH1aF2TXSa4IF/O4kd/HoDOcyXoWTppQrS2QTMQ7C+qeNe/Eaqqmh4dVmXFKSj7d+/\n",
       "R7VJm6HefQ53Y6YUbm+cVjb3BBe7zEAkZ4EVWz598zhVWEaATy3757i7Y/h+WOrhAAAE2EGbtEnh\n",
       "DyZTBRE8FP/+1oywADqV4OioAHkygn7tDQjzbeo7/9FJ4f8ArIBbi+fBR/MxP13PiaC9t0rNzTr4\n",
       "RGLBIWJZqxGpF6jxpYp7FG2XvrbCBuEAXlLhP3lD89EY2f0FYz7eb3fSLRfbU7NZZ0s+kAKknYhW\n",
       "b5+F9q77o2rIySLutl+rypUpjegckZTju1/MYV7t6fQPQM1hk4ESiuDhm9//yvKg2r0Yj0eRryzU\n",
       "IuA2n63B2E8RIwG+G83ZQ8xP2jw3c6lZcFyRyYkpHqoWk034F02NFlsra/IQWgLJ73TQyxYlBRSA\n",
       "YN+XfSWIE5b3pA9flHPY0P7o/cdGGCfufHYrE9YL2UwSvhpmo79RrOAbPMc+KnOL0oePROjHOft4\n",
       "7ghRdoqOwf/5Zdy1PIH0sx7iPle7ysu8wwxaR7wFkGpnvnwPo0DmeOohG1XRZuGpNNVmjFEleuRk\n",
       "SpHxSaiNgXDsNp9Q0LhnkOH6H9RL3bHOdIcnRkE9REnquKEW8svU6vOwJJ0hq5dkuhLqUUGIq6LP\n",
       "N3q80oD2QEEv1rtlqLQA7h7c8zE9Xw8VbvO1g9Flz0CkHNWqaKvu4y96q6kjdLshVmHByU9cGa9y\n",
       "f5YqxjY+LJoWQqN9Zw2Ke0qyjraw6o2IUe589uDaAXZBFE0JwWRc0PDa7m39vIRaHoPPtpDqPcwx\n",
       "AZV9QfQoJZ8+Kz35tQ2EcDHdJ3m8LYHcNAIJRmpitxEZwHkUEVc9cXvVH7p0Efz+8sKWLhxdUR4K\n",
       "kx1L/OfO1JIj21M/6TCkUGwe8WzGjmCPeJ8mZoRJDKb3N7cGCaAO2q9dwjCnf0T82ejWwxi7ctHG\n",
       "I8vTCCw4FfXDIv63rM2O12hNROqmrKcJxoLl3jA6H2uxI9HiSLZKMUrqBXw4F93+MF9o45BzYyVJ\n",
       "+9db3nfRFJZ6DEeE9tCUESPOz6kzMepa2AWyfM7u+PvB5xW0tZNAjLIs92knuawQvj1BMiJ0WTPw\n",
       "INtDkIc/UanVzf8BkU1kKOVNVE3vkq7WyyWXC/7lUGj9fhHISFaR5UHtldc4z2J2wCFRzgCuSV4I\n",
       "s9kkqKsNQO80p0kmLANAUvaaEMyl9t6GlDjnQlLnHw0wkyh87PkiUVm4eqsxSCoeY+6lYi7yhX5z\n",
       "eQKGfPZ74Ba1gwMyRoOMB4hP4In9k64gjCYOQMxvB/aEa8DIFDt3UUDBqHqXDOfjitKeWbLNI8ef\n",
       "vdG1Tstu+PZs8rzcc4azssP4Z533MjUX5lUnCmLgmubAV1BP7i9yvPO0p7gM/mHI68vf0eveNRn/\n",
       "8C5DSMzDGfJpDpBqhlmCjiaK+DmYxdF27rYg290EPn4eWD8P1I0vl4UA1iLcDxWM2yUa65qDbqNz\n",
       "j2xG+qESeAZp1+XrTcotY4KxpJB2uzESlIHV5Rza0Fchkt2rqpXshqXqYqkBe2qTZW3N/DC8Yz9/\n",
       "D+uVpCezFFja3W9c1ICrHfBAxctmfEEqHmmT8W76Jf47bcfiR6YWVj1/0FhgtWrhxmmBF39w4QpO\n",
       "Lk6nieZgUoIloKrwyYp5l709Bq+k2cGYpPcle9xe0DwLK2yAb3GahGYHYSZiKXhLVbITNzGP4uhh\n",
       "rUgTsiCFEm6QkRPYgQrZhWwu02t1jvImbzeWYCyci1EQ0Clb7IAAAAEDAZ/TakP/AAJzxLLg7kQA\n",
       "fOlkRBXw3ESujVKe2ztE+GTuVRPb/D4nH0X5PYvYSWeS6ZlM91BtnLLntiJxNgNjq/cQ5KRmBJxL\n",
       "glT++0d40XoZw4Ac8QFw6fz15LeZiASnQEH2vTv8GY+w+oOz1a5sc/fsK+KkzB1s/RRrLc/iwhPX\n",
       "eT25c/BI0LKuLU9K7pUw4nlBffhLftVweJ9Ml791lJdj1zEGMCfVXbQaUPO/INR3tXHVZ1HBoVz+\n",
       "g6QsHh1zoPZwYODEPfvAIcFbilmcueJScbludSJE/MpEVPihbl4qkfsqXmxgtyC+J/DBsd8rEGpW\n",
       "2FbyLv7h4JreGlmFToDqWAAABTtBm9hJ4Q8mUwIKf/7WjLAAOkij8F3qPQAtrcFH68GV9yPBcAIV\n",
       "TWk52Cpa1CWYaiqkdB9K4C+haIvz3VA0e9AA7ovWZ5tinS3bRiITf9vTPHekRqsUQHCCnKTVUTUO\n",
       "ufs5Pg7jgiav4S5jvYPewQ0xhGWVlz+FhSde7bgEEs5Xoxp0MbvZ9gVy7dFhuKv6L7BlQsKAE6q6\n",
       "584jGc94THK5FTF2yn+ZIk2hZOcXL+gVKSiqPGYeRzhKOC1Z46FcZONX7j2CxXr/fkgxsqX2q8uc\n",
       "LE1CWmlPnfDCYlUOhT1j0a9HYbiKqGqCbOkeMl8WnfoaGfrEJuKNicSex2GQ5W0Bu+ScIal8JleG\n",
       "m8qWLsEhEKkQCEktbrGqNKSC7Amms+AilPVDY6Es/xiamLiN5xDR8tY6OpwpoxXBUPzMRlPNFxOW\n",
       "7dMxJs45db0UAMeLE0DYYJZK4VuPXREyY6efBWgh1f4TdGtm6Cq2+xf5CPs9VQFMDE0/kYUb2aZ/\n",
       "Is4u13kTqNE8XXh0qiiAAZIwjx9wFAW0Fg0AxtZgi/6R0Pw0+oR2oxpwacH3oEp9V3qT3qu6oR+Y\n",
       "8g3XxH7ds0Relv84oCLgGVJ6Ael6VFS7CXbFasgA1w+MXUBL0Oh5IRAZuc00Kzv/ljEfxwcAbApL\n",
       "TTFXmy3QvuJ1/VjlFEb7ZwNjE9xLw3dN87nRCAagIvCSCtuBV31flWCTp3wzmMrNVAgdEMEifFUp\n",
       "g2TpCWFG95IPaslzR/oR8we/64qs74o5TRLrpzyc/gPFHmHtb8EJ6dkLmX/ERDKXbVoPxuPqC0Oj\n",
       "R8Q9jZxZYFEDdnJPy6pelPVTb7GadwatHR6upeXPcbeAekOPzHlLTIcDJyRBrBuxCGUIs8Pmo0+8\n",
       "th6LlhR4B9we2way5Lshx2dh7y8UDRT74drAVqagDLR29xrFKbBmUXOx61WmB/gz1JOTJ1NL4+W5\n",
       "++OLSaJLgicLRza+Wl6UNlDtYlEB/sckh5Kozok4pLQtIOEiEIoBm2Tcn9jVIPf/9lTxWPXtGMPI\n",
       "DNkrU0aBGTAhLBL1VAn/a+c88vkl/g0ZITDTvAXCqouIcEjt5j+u8zrv3V2e56nqcNwleRhbPf6G\n",
       "rJs8oS3uKvm00vMSCRtyazgJ1230zP5t64L2s9SCWxkjWTou9eoIfaVn69QSNzBtiHBmPViHhWu0\n",
       "M4FDZzNAjXstnUqbr/LaZV9l/mOKyFx2MS/eGbdn6FA9j3WwG0vLdX/RZX1PAwrWynLPpO6WKMGM\n",
       "/scOO1WgS5vxpB9vAv6tj2Lvth0UmsAva3YGCAIin7tP6sVubzeT7JKhXMdLNMvxPZPqObvKqKx6\n",
       "KTwQCNXmdas6BbtJ+r7BP3ZMLIMQiz66M/cccj7hENZoAWQMyENGI7LULIo9VyE24oaFGucaqQ8A\n",
       "ncmZoDrmrDDEOgc2k9hzJj3Wean50joHrvwOc8faaoYe3v4J2ZEdZeSA+O6Wie5+VWeKmfp4VyrL\n",
       "QJ3U6RiaVuyI90ReRMU5fiZtVBV0iBbaE6ZPyyD/FUkvJCOFsfK4saSvIYy7n+wcVLXDptJIiWBD\n",
       "QgNsG+tZQHNEPFD9x1emXmy+lxoyhm86/p4SL8eFcY2YrKpBMdsqGQhu5sHuvAEova7AeLLo+rEC\n",
       "epw6vNdaRaCfPStlMq/wrEn4l18FQ54SZDbEOqHIS9Atmm2kRc3Ohbu2p22OxM84cDI8PNh6kU2E\n",
       "po96nLPKMb5VInxMOH2xGbA4KgRri38MIp8N6oXy2NE2AvX1EFPCvvY5FTkAXvNdAAABe0Gf9kUR\n",
       "PBD/AAEZnch2nobEAH1lwbA+IrEXdx3/lT9GaUCh1SQiK0/vPRndHfateyPAPIt7xzzuqw94Csb8\n",
       "8RVXUim2im5Yj1F8acltLSguwe2SxYqn2V4pSAlmF/iZ9ZhlM4GzVhyg5u/N+WK1aFB7MsNxqcBL\n",
       "bPBCh1gxxptj3f1o01105xu1zQrr2oVbMe9ZXqjHz3XF3ge0uvIVlYh3L4kjOdPETHul5vQoKyWM\n",
       "iyI/6GxGpqTMP7zZgweLU6946bEQZSNTYwu0ruO4tjDzkPyHjlAkDvUrf5Hop+5su8Vxxb2FSyBo\n",
       "sJaRx3cSo0aKPtG5ahEx1nYzXCLd50w+BjdoSkq087z1jgGQwWl1Qrh9giVJtMUnrWIN/DKBOywX\n",
       "gri+o+ipMHXQ/1IV3qHq6WzX/Mr45fdaHo6+ZnB8aiFn27te5yUxPTBu8V8li9FZUdCCixaPxCEI\n",
       "Jv76YlW00LdnrRw/hg84M2eG/qlqi3ePnkTHNeV5t4AAAADYAZ4VdEP/AAJzxDnQe6IAPnSN6VDt\n",
       "/hjgneFiGjgRN1iKjPNgz1/uIKWdSm/z6Wcfongb4X9eixiGiyOOTNzucNc4t3xZMN25PPfJWaUE\n",
       "CxLbBSQU5Dyo9V1YqSP1BiCBWH8o/98Cvc8YNmk3e1Xkzs4vSR8qT3wNg2OaA4eQ1BohV1xEThLA\n",
       "7Cd/VnXvL0ryYtOVaBw8d+uzvkIu0sII2VjRxDw5QXFfmJFYqqwbgUbn4mSPBU1O0um3u6wRNiVt\n",
       "LaNQ4o2xOmg0TRPEK43mEbIo/dbihiqDAAAAgQGeF2pD/wACfdHAAJ2EjrXNazO9bK7bZc1JM0Ce\n",
       "/Gq6P/58gIOmRyu8o7UqR0ekFINQVfV0F8cf2Oj2cs9R5lGeI3o3tVAEFUxhdp8STTCS5WGlExWi\n",
       "39Opj6kcHyfS6xwfs6sUkxq/Y/g2iphpmt8ieYPQF3DyCu178fasbFHxQQAABIdBmhxJqEFomUwI\n",
       "J//+tSqAAOOcncSe8kABE25R0pklKl/0yktef0qON4fLpQ77ipgi3KbIZallGD2hg5Q3qAiPxJw8\n",
       "JLLxd6T5Aavy57XwAJ1iT/6+ICfTffpCL3Nt5Y6f5uzLUDTQn+DsnyPWqhSdE+VUAlTP/BWvuemu\n",
       "GWVyxDJ+m0Qzm6OUwCLXZXIBuSrhFqksxy/YjcztpHJ3ZLu/HpM5LEmBwCXac63NG27JryK4e2uB\n",
       "33l6MXMqbddP60ya8jeDxG3VF+Ia80VB6mCPQJCuAORI0jZhHJ8cY90XEmpsEEVXOGeEL5jb8bRn\n",
       "OYYwDECFfqOCAyCHiN3h6m9dPWFMbA3wFGYTnxaLHDhM3NjM4HSwwv5pAOn5ZxFORf1BAjOauW8P\n",
       "1CdXryV0WrSbUXIIII2Pgj7FVb/9kU3A9y7Lbms9EV8W+QilAEa+dt99Zz/BgvwI4+V3L9frRxXA\n",
       "LGP04fCNARY8Ws50E75ODcfIKpARf1WA3aLT/J2n1Lb0ySE1aoxWj2l+xpn7mT8xLChbnGIatZf/\n",
       "BwKQ2E2AhXzGr1dYOWb0ALdcWRBuAbplsAc/W0FaORAfwDR+IubnEX/E9/KTerz/UbiELuZR5ShV\n",
       "h5VQ6hqa9rWA94jQu1yvfDeq3V2GND/EpNPea4Qco8YPBS+BTbXvS8hXjnd0npYNQX8/ohjQtTob\n",
       "Q9fStaMApJqEiHoloQzZLAe1ujI6LHLLgfeQ18eUEFAgkolyyeQZiFrLgYftxuHhJE6N0GIlRlvd\n",
       "jHtqDrgi7zXLR9Z1aadlEPU+ip6s36sdjzzaCTfJWzCTucZffl+w9WtFr6NaYjaM81ELAicCVsIU\n",
       "gAhUmVZ7UUcH0+uywq8NFmDUN+sPpoN6z3/aDomfTdopLFSw6OsCAKe8xVp2S6AyYujbKhO7dErv\n",
       "sTG1Z5jx3mqxW5s+A9gVY4agNnx8xh+YWdQPEOn5PTC2gn1WP6NMZF7JVdO5L4Y0KHTOuBberRXV\n",
       "qyLEnSFHK1GWoqHSeGk5Erddwa+5kYKo5Z/GNlEA8/3HoPgswN7iYUhsaaU4MkbIaERDzWXa2Txi\n",
       "NErvZkEFAGY3HmSen3s6IBpMgCqpk3G+iGmvGr/pW1J6sukJjWZm+vo26qvVFglhg+hEvISF2Em+\n",
       "evuI4yEHByG21w6JirC1nW2Ftnu83PQ9G5/LuxBrHCc/Qz5ADgp6YPFpGBvX3eiZbYEIUamjNpuf\n",
       "m+bJ7v8Aw5c7OQ3JOIUg54TooF7kBpbXacrQWeVTQrxE5yQZ9hrqzRgJfCxe6HY6A921+BXH6A3H\n",
       "l/PjHYvK2ML9aQ6q9XRWTDiAHNCW8mRlI8ubeqqJeWS9GvpCFRszDAzTykF7oBKi3TbXKwZDkG2I\n",
       "kO22/nTTae5x5ZpGxDOuODpx+xmKjqdw3lP42tXAA+e4q3Vm31I/2NavLyQaQYgy10UnZZ4beWhL\n",
       "XOIvOQiCQkC26UEm9FoeS8ZiJNWjMYgDed1vgZyO2auqj99Gl6pV5iiZMG1UvqQ2DJz3/QPv5e8t\n",
       "h/AFE4wElkd+AAAA4kGeOkURLBD/AAEZnc0V5KLGAD95GbKWXvbhR8uLincQwsuh5okIjvV5gG2/\n",
       "THsp78O38EcEYILZPUB83985oPZWi5+Cxb33kIl7S/eOY9oao6vD6kx9+d+gfxmSCGwbwo1PxJBk\n",
       "8v0dEUfm+fgrRJEUuZwqzTEic8+MOjxtNZJ7LYW6vUR0hLsXj0gSthxonQc7gW+o4hOxAidYahe9\n",
       "EWStSo8nLL71O/cux1E03vv2CwP2EnijqnDY2F/NfbJaCRj1CE6EXXtifFpuZ/jsmgl1wLCUEEpb\n",
       "3yNyvFzWnvrsV0EAAABQAZ5ZdEP/AAJ+IuACaw0j7MknLWXDo5DThrm86m0dvltbEVpaaOzX+s87\n",
       "kgLtsvK/Ulcsw3eD05YEREG/2QXJ00zWI5pyh9d/C59QMjszzJ0AAAAzAZ5bakP/AACGtIKQo+HL\n",
       "BNAdBoOsvwMFsGCR5C0acuxSBYggZ8AHZ2zAKKICxBOn6ymBAAADb0GaQEmoQWyZTAgn//61KoAA\n",
       "45v1H+EoACJcyfxSsSNyyno5r/TH6UjyvZWOZXFuLF7peLesZajsTK8q+l2oC/1b4BitJUg2AiCz\n",
       "T46yDDQdMl9Zdp+N1kFkzFYu68iYnKPU9+SNgSSgkf2niWw/VofZiNeKeGzxgh3r+6F6JzebvS2x\n",
       "bolx5T35PpCK6ssWzDgCK/gbrkpaerjxh/fx1bOaAg0pCIjT9OU9sWSLYanq5flLTy8I/cLXD3Iq\n",
       "wL2oM5EayBk/9sCBPeuPMQ98ik4me5SnRntJySfeQgLjZJu76Qfs4dRD4efuMNNcwlWfZudhtzqF\n",
       "sOO94L7Wqd6kgLTJagUDGaMBQFuNpKgIn3yqnvty9/8Zyj9Cebp2W9hYuKHcSb4N+DW5q5JWek1b\n",
       "WObYxbN6/SVDq97Util+6vdXf6ad2BknDMSr7jnayk7tl1bm5Qk85K62HzFHP+z96KrkkhTc8k1l\n",
       "yrK37RSjec3wOUUUOYYGBn/KsrnI6Zhmg3H1TXVVi2f0mO/zn85Y9XtPFRiZjtjg3pUqkhpeqUUm\n",
       "pwjuYmV5oh5RjVinau8T3T4E7gRSWyuyAzlmH8xzyumEy0Akqny+5ElA/8qRf9f9QwnlOryuo1oh\n",
       "NI8yDCx9FkAb3IqZ5m5UdtI1vmYFY/4u+SX0mcUZGqhkk9xTuuBX/JnCXY8FKcqYl+B+zGKZ6fKh\n",
       "a7OJ1iNakPJj/m5qURO03K0f+TpfS20CotYnZzIcIW1zf9s0JUcFae8kEk25g1VcTbq0Mh4I0Hrs\n",
       "Sz44Ai+1Gj5BAkXNbNR0omQkpmbopWoLTgw/bO+MQn11/wWKJ+S5CZOdl/xY2MO0XYLJVoFf/PGb\n",
       "nwYibKC1znK2ODllQaGK5fgHei/xEue+eqdUpGHqXUlgnlzdoSIH6M9b4qbr3VslHirSJYH2trru\n",
       "IB6JWpVKJDPIboDXK9DGHcCVTTpm2FLS/QXutM0thPTuGgdN/8nofvU46H3/AWooJ1yOwtbJF0Lz\n",
       "YdGdwS//+Q5cPlva6SLQLt5RYl8zB+YvWYCzLNb4sQJX3apwp80t5vb5T9S9YjhwluBO3pZgSd24\n",
       "s9Z589/Jo5hc/aMMCsQ8Jl81R7JvijxA8xxZjbox2Nn4NyIFKmxhjrfw65GDKtmV+OjAXmqyAHCE\n",
       "VVXzt/17IwAAAIdBnn5FFSwQ/wABHueAAJZaUSr3f9WYBxlV7Sax9QE3UKo+f6v+GsLWwTrNrjqB\n",
       "J/sg+IePG4nTJM15Q66kuN/2/emxP8rgI2bNUO0IZIlAwDrC1tgx/LLr82JGh9NmeMAIC64/Xi9D\n",
       "v3BTx9Gtga0TlsZhsUcsWvMMwHzCITWLPYDE99WDamcAAAAyAZ6ddEP/AACKrkzRoDjO8rp/kOji\n",
       "qa8zACMJnudYoNQzxcPfeFt8xvPOoDUcTT1Vd0wAAAAnAZ6fakP/AACGytB6ZuKywXUZ8EOO+SPq\n",
       "w7QAqrLzbr3zKiHjxyMxAAAC0EGahEmoQWyZTAgn//61KoAA45v3KWWUAHGxRxGmdmeWG340azCl\n",
       "ymQyFc1J7VUkFFs2o4niuxSMUeGT2+tuuRLcdacWocJRMEF6ZKTmgD737b8A5flJY4MFgkfltxP/\n",
       "vj+mbvvDWAjefZOknJ/AN7/w6zgIXIQKacyxdC/jmzDWOMsTNIXSNTzh12Bdh2ql7aNP0WAwliOg\n",
       "z07C9JszVc6G6c3egN6fQc7Plwi4P2agqtL6u2xIowipeaexWWAMXD7xtBSvBvBYNJk2X6jTDjD1\n",
       "BvHWXc/V6yNZmEvL8BSfik+wfV5tGP1NT5HwTZrw5tnyDGx/XgUmgAcve80Hs1xD09eJst9UCfPU\n",
       "qyxKvRGcm1CmZ0UKt8Tq5fLoZkeFZazEglCML1sIXNp/dDlHw0ORLCym0LHGTlvGl+/CO8aV2uV9\n",
       "B6LoJV15XjyVDrRdoo2kEnxxeAqHcgZDuq7jJW3b32Z9IyaB2gF+xY8YPVjbSUnWESSLKJ7ybmTf\n",
       "DBkKUi6hQR89Yrjz4a3eFvGaPZIelCgQCoB57KhKBKGseamRFArOBU31LZlqpys3IxQM025T3+Da\n",
       "2QXACqDWwjMYPGEWVLn1I+gAr9uCHMnRfpOkvvd/kCgT9rQASV9QHywvqy3nq7VaYzOabUK2DYNa\n",
       "hUczQ2LvZOSsaFUbgLXCmWlOUuNijCs96wIpL4mti20uAmee6tSbRf/lTaYg2Mye2yb+BwIcA8pU\n",
       "APqflu7gL3srAaDVNM4hkDM7qv0EISi7Pss3/hlrgHCbyxCiPX22/DR1zsUfeVSyGfsu68YHHy2/\n",
       "FcXnWmySdeVZ6xzv7Akhs2xEMG8bVP8J4Uvz52+NdRQmJ6U0PYG8Fq36kZC9c7aOBjvoR9sAZ/fW\n",
       "xHuFZU0hOWqw5MNrPICf7SOjFJDJ25qL2XIs3I0BV9j+10D9jYRB5V+QQJbaHA+xickXvmImjAAA\n",
       "ADZBnqJFFSwQ/wAAPLlnToPurLuNlTKUdk81AaA3Thcp5Rl1AY4LnVYISdM4iKVFIdSPcdcFwxsA\n",
       "AAAWAZ7BdEP/AACGrl0HFj8psO6yVrMTXgAAABYBnsNqQ/8AAIbBul62ym35o+crWG+BAAABW0Ga\n",
       "x0moQWyZTAgn//61KoAA45yXfocgA3awnfc23/vJAYlMrqVgNAS5rTGqYAtDHCaNUuSvJ+NjDz73\n",
       "Mu4M2Z/6KdmQXiB5d8Xs/6X79t0wJlUVf6EVWd3iUe9HxYZuF6LQUenTG2bvR+o1igTm2V4VBi2j\n",
       "u5vPvRcq5o7nCBFgzuKA4I6XrxaXgdwpDsE90rdlHq7mdjHNf5MuVD5+ze9izWk9hdNIv+0MBJGR\n",
       "dg5fzYUFz3HDW+ObViw0Qy3J+dcF2hGW158KNGlVq69MWA/q6dylI8pBbVOBMmY/VL4pTGrweKNy\n",
       "bnEQMNBmxmDwnigPkHeEEmeOGxbrIMS9tU1NbAj9MX6/9MXbZex7yLc6ftahfRj4k5HK8G7xZVSI\n",
       "hB6GlThkm8BPQZfjW9tfhrcSrja4XjTI+2jHrIBO3ykskFl/0WU82Kt8WS8W2kdztQK2kSkeZw6f\n",
       "s591AAAAH0Ge5UUVLBD/AAA8uqcyOqH5w2PfF8jtDY5CmSfQxYEAAAAWAZ8GakP/AACGwbpetspt\n",
       "+aPnTziF2QAAAUFBmwtJqEFsmUwIJ//+tSqAAOPEIGAC6gliw5Z2ZAE+hnuxCV+yYJgsAxgdNXYv\n",
       "FDcVhTq9CmDchL23yI1V4osy43isvrUBuEXbVZFPGLRYuqb0SkVXoT3dxSKKFvWXZ/xUj1hadL7y\n",
       "3LENhswAven+Y0s0+u8t9L/AYDzM1pRPSy7y+ehVJnxo7r0hix2B8lPwOAJ4W3D17T4ge6O6/ovk\n",
       "mdtD9DqIIAynDM4ZocprS5eHhJqPZyVd20dYt2Vg0s2d9pw1fCGYb5o0VWBqpLXuXunhRbDLE9/k\n",
       "C3VNc3ttIoAOAxbTR2/E8wfNZqq0Q619MOuLbZBTuLNKanbRph8KQjWqbg6101PSeaCDyCvOuwhi\n",
       "J4/gC/a+3zK6twcpl+j+6lWhGLxTN3bnmg87b1YLVZHqY7OO2G6I08HOt3sdxpgAAAAfQZ8pRRUs\n",
       "EP8AADy6pzI6ofnDZNS7zLYUJpQuy7ZCqgAAABkBn0h0Q/8AAIauXQcWPymxPrY4YFw3X8yBAAAA\n",
       "FgGfSmpD/wAAhsG6XrbKbfnWXJRxyNgAAAB0QZtPSahBbJlMCCP//rUqgADjw1sAAt3tYkLMmBLy\n",
       "746PMbkdpfnQp7w7a6NW3b5Cqnw3wfYMgAY1/UvawUp4W5P68hotPMoSVTDH5K1zXbMojpCQchie\n",
       "A3e30Q08kDgJDpXS5U/lZJ4uNEVB2eiE1K8N2GcAAAAeQZ9tRRUsEP8AADy6pzI6ofnDYNgfwcCC\n",
       "wS1+l0OfAAAAFwGfjHRD/wAAhq5dBxY/KbE+spb8hELZAAAAFgGfjmpD/wAAhsG6XrbKbfi4c8De\n",
       "aG0AAAAYQZuRSahBbJlMFEw///6plgAAE4M/sAk9AAAAHAGfsGpD/wAAhsrT25WPz5uXBdA/gZ6C\n",
       "Vvi4moAAAAVebW9vdgAAAGxtdmhkAAAAAAAAAAAAAAAAAAAD6AAAJxAAAQAAAQAAAAAAAAAAAAAA\n",
       "AAEAAAAAAAAAAAAAAAAAAAABAAAAAAAAAAAAAAAAAABAAAAAAAAAAAAAAAAAAAAAAAAAAAAAAAAA\n",
       "AAAAAAAAAgAABIh0cmFrAAAAXHRraGQAAAADAAAAAAAAAAAAAAABAAAAAAAAJxAAAAAAAAAAAAAA\n",
       "AAAAAAAAAAEAAAAAAAAAAAAAAAAAAAABAAAAAAAAAAAAAAAAAABAAAAAAbAAAAEgAAAAAAAkZWR0\n",
       "cwAAABxlbHN0AAAAAAAAAAEAACcQAAAQAAABAAAAAAQAbWRpYQAAACBtZGhkAAAAAAAAAAAAAAAA\n",
       "AAAoAAABkABVxAAAAAAALWhkbHIAAAAAAAAAAHZpZGUAAAAAAAAAAAAAAABWaWRlb0hhbmRsZXIA\n",
       "AAADq21pbmYAAAAUdm1oZAAAAAEAAAAAAAAAAAAAACRkaW5mAAAAHGRyZWYAAAAAAAAAAQAAAAx1\n",
       "cmwgAAAAAQAAA2tzdGJsAAAAs3N0c2QAAAAAAAAAAQAAAKNhdmMxAAAAAAAAAAEAAAAAAAAAAAAA\n",
       "AAAAAAAAAbABIABIAAAASAAAAAAAAAABAAAAAAAAAAAAAAAAAAAAAAAAAAAAAAAAAAAAAAAAAAAA\n",
       "GP//AAAAMWF2Y0MBZAAV/+EAGGdkABWs2UGwloQAAAMABAAAAwAoPFi2WAEABmjr48siwAAAABx1\n",
       "dWlka2hA8l8kT8W6OaUbzwMj8wAAAAAAAAAYc3R0cwAAAAAAAAABAAAAMgAACAAAAAAUc3RzcwAA\n",
       "AAAAAAABAAAAAQAAAXhjdHRzAAAAAAAAAC0AAAABAAAQAAAAAAEAACgAAAAAAQAAEAAAAAABAAAA\n",
       "AAAAAAEAAAgAAAAAAgAAEAAAAAABAAAoAAAAAAEAABAAAAAAAQAAAAAAAAABAAAIAAAAAAEAACgA\n",
       "AAAAAQAAEAAAAAABAAAAAAAAAAEAAAgAAAAABAAAEAAAAAABAAAYAAAAAAEAAAgAAAAAAQAAKAAA\n",
       "AAABAAAQAAAAAAEAAAAAAAAAAQAACAAAAAABAAAoAAAAAAEAABAAAAAAAQAAAAAAAAABAAAIAAAA\n",
       "AAEAACgAAAAAAQAAEAAAAAABAAAAAAAAAAEAAAgAAAAAAQAAKAAAAAABAAAQAAAAAAEAAAAAAAAA\n",
       "AQAACAAAAAABAAAgAAAAAAIAAAgAAAAAAQAAKAAAAAABAAAQAAAAAAEAAAAAAAAAAQAACAAAAAAB\n",
       "AAAoAAAAAAEAABAAAAAAAQAAAAAAAAABAAAIAAAAAAEAABgAAAAAAQAACAAAAAAcc3RzYwAAAAAA\n",
       "AAABAAAAAQAAADIAAAABAAAA3HN0c3oAAAAAAAAAAAAAADIAAC64AAAG+QAABbMAAAUIAAAENAAA\n",
       "AyoAAAP1AAAHGwAABBoAAALJAAACrAAAB7EAAANnAAACmQAAAe8AAASoAAADwAAAA80AAAOSAAAE\n",
       "3AAAAQcAAAU/AAABfwAAANwAAACFAAAEiwAAAOYAAABUAAAANwAAA3MAAACLAAAANgAAACsAAALU\n",
       "AAAAOgAAABoAAAAaAAABXwAAACMAAAAaAAABRQAAACMAAAAdAAAAGgAAAHgAAAAiAAAAGwAAABoA\n",
       "AAAcAAAAIAAAABRzdGNvAAAAAAAAAAEAAAAsAAAAYnVkdGEAAABabWV0YQAAAAAAAAAhaGRscgAA\n",
       "AAAAAAAAbWRpcmFwcGwAAAAAAAAAAAAAAAAtaWxzdAAAACWpdG9vAAAAHWRhdGEAAAABAAAAAExh\n",
       "dmY1Ny44My4xMDA=\n",
       "\">\n",
       "  Your browser does not support the video tag.\n",
       "</video>"
      ],
      "text/plain": [
       "<IPython.core.display.HTML object>"
      ]
     },
     "execution_count": 38,
     "metadata": {
      "tags": []
     },
     "output_type": "execute_result"
    },
    {
     "data": {
      "image/png": "[encoded data removed]",
      "text/plain": [
       "<Figure size 432x288 with 1 Axes>"
      ]
     },
     "metadata": {
      "needs_background": "light",
      "tags": []
     },
     "output_type": "display_data"
    }
   ],
   "source": [
    "fig,ax=plt.subplots()\n",
    "ln, =plt.plot([],[],'ro-',animated=True)\n",
    "\n",
    "def init():\n",
    "  plt.scatter(xtest,ytest,color='g')\n",
    "  ax.set_xlim(0,1.0)\n",
    "  ax.set_ylim(0,1.0)\n",
    "  return ln,\n",
    "\n",
    "def update_frame(frame):\n",
    "  m,c=mc_values_anim[frame]\n",
    "  x1,y1=-0.5,m*-.5+c\n",
    "  x2,y2= 1.5 ,m*1.5+c\n",
    "  ln.set_data([x1,x2],[y1,y2])\n",
    "  return ln,\n",
    "\n",
    "anim=FuncAnimation(fig, update_frame, frames=range(len(mc_values_anim)),\n",
    "                   init_func=init,blit=True)\n",
    "\n",
    "HTML(anim.to_html5_video())"
   ]
  },
  {
   "cell_type": "code",
   "execution_count": 39,
   "metadata": {
    "colab": {
     "base_uri": "https://localhost:8080/",
     "height": 283
    },
    "colab_type": "code",
    "id": "BRDztZCXKjR_",
    "outputId": "4c90c70b-b3a3-4f06-f7b0-9a0774686c5e"
   },
   "outputs": [
    {
     "data": {
      "text/plain": [
       "[<matplotlib.lines.Line2D at 0x7f8c1bc69f98>]"
      ]
     },
     "execution_count": 39,
     "metadata": {
      "tags": []
     },
     "output_type": "execute_result"
    },
    {
     "data": {
      "image/png": "[encoded data removed]",
      "text/plain": [
       "<Figure size 432x288 with 1 Axes>"
      ]
     },
     "metadata": {
      "needs_background": "light",
      "tags": []
     },
     "output_type": "display_data"
    }
   ],
   "source": [
    "plt.scatter(xtrain,ytrain,color='b')\n",
    "plt.plot(xtrain,(m*xtrain+c),color='r')\n"
   ]
  },
  {
   "cell_type": "markdown",
   "metadata": {
    "colab_type": "text",
    "id": "Tdi0kEhgAHei"
   },
   "source": [
    "# Plotting amount of error present after x  iterations."
   ]
  },
  {
   "cell_type": "code",
   "execution_count": 40,
   "metadata": {
    "colab": {
     "base_uri": "https://localhost:8080/",
     "height": 297
    },
    "colab_type": "code",
    "id": "sXMXIqq4MLzx",
    "outputId": "facf297f-2bd5-4c4b-c7c5-bae2d3be3655"
   },
   "outputs": [
    {
     "data": {
      "text/plain": [
       "Text(0, 0.5, 'iterations')"
      ]
     },
     "execution_count": 40,
     "metadata": {
      "tags": []
     },
     "output_type": "execute_result"
    },
    {
     "data": {
      "image/png": "[encoded data removed]",
      "text/plain": [
       "<Figure size 432x288 with 1 Axes>"
      ]
     },
     "metadata": {
      "needs_background": "light",
      "tags": []
     },
     "output_type": "display_data"
    }
   ],
   "source": [
    "\n",
    "plt.plot(np.arange(len(error_values)),error_values)\n",
    "plt.xlabel('error')\n",
    "plt.ylabel('iterations')\n"
   ]
  },
  {
   "cell_type": "markdown",
   "metadata": {
    "colab_type": "text",
    "id": "Uve_6GRcAUek"
   },
   "source": [
    "# Predicting the cost using the obtained m,c values"
   ]
  },
  {
   "cell_type": "code",
   "execution_count": 0,
   "metadata": {
    "colab": {},
    "colab_type": "code",
    "id": "cRRMVHOKM7WL"
   },
   "outputs": [],
   "source": [
    "\n",
    "predicted=(m*xtest)+c\n"
   ]
  },
  {
   "cell_type": "markdown",
   "metadata": {
    "colab_type": "text",
    "id": "Cwyx8MtWAkvX"
   },
   "source": [
    "# Finding the mean squared error between the predicted and actual values.\n",
    "The less the values,more accurate is the prediction."
   ]
  },
  {
   "cell_type": "code",
   "execution_count": 42,
   "metadata": {
    "colab": {
     "base_uri": "https://localhost:8080/",
     "height": 35
    },
    "colab_type": "code",
    "id": "-nem02IoO2_U",
    "outputId": "5f6af64d-b9b6-40f1-c729-54247e5ee6a7"
   },
   "outputs": [
    {
     "data": {
      "text/plain": [
       "0.020510513116834113"
      ]
     },
     "execution_count": 42,
     "metadata": {
      "tags": []
     },
     "output_type": "execute_result"
    }
   ],
   "source": [
    "#mse\n",
    "mean_squared_error(ytest,predicted)"
   ]
  },
  {
   "cell_type": "code",
   "execution_count": 43,
   "metadata": {
    "colab": {
     "base_uri": "https://localhost:8080/",
     "height": 202
    },
    "colab_type": "code",
    "id": "qIMOy79WO9r2",
    "outputId": "a235af8e-9509-4b7c-b00b-0d6c78be2b95"
   },
   "outputs": [
    {
     "data": {
      "text/html": [
       "<div>\n",
       "<style scoped>\n",
       "    .dataframe tbody tr th:only-of-type {\n",
       "        vertical-align: middle;\n",
       "    }\n",
       "\n",
       "    .dataframe tbody tr th {\n",
       "        vertical-align: top;\n",
       "    }\n",
       "\n",
       "    .dataframe thead th {\n",
       "        text-align: right;\n",
       "    }\n",
       "</style>\n",
       "<table border=\"1\" class=\"dataframe\">\n",
       "  <thead>\n",
       "    <tr style=\"text-align: right;\">\n",
       "      <th></th>\n",
       "      <th>x</th>\n",
       "      <th>target_y</th>\n",
       "      <th>predicted</th>\n",
       "    </tr>\n",
       "  </thead>\n",
       "  <tbody>\n",
       "    <tr>\n",
       "      <th>0</th>\n",
       "      <td>[0.8910044150110377]</td>\n",
       "      <td>[0.07555555555555556]</td>\n",
       "      <td>[-0.061533967205704365]</td>\n",
       "    </tr>\n",
       "    <tr>\n",
       "      <th>1</th>\n",
       "      <td>[0.16583885209713026]</td>\n",
       "      <td>[0.4155555555555555]</td>\n",
       "      <td>[0.4941609204019607]</td>\n",
       "    </tr>\n",
       "    <tr>\n",
       "      <th>2</th>\n",
       "      <td>[0.05601545253863134]</td>\n",
       "      <td>[0.8977777777777778]</td>\n",
       "      <td>[0.5783186697428475]</td>\n",
       "    </tr>\n",
       "    <tr>\n",
       "      <th>3</th>\n",
       "      <td>[0.0750551876379691]</td>\n",
       "      <td>[0.62]</td>\n",
       "      <td>[0.5637285071686737]</td>\n",
       "    </tr>\n",
       "    <tr>\n",
       "      <th>4</th>\n",
       "      <td>[0.13383002207505518]</td>\n",
       "      <td>[0.4022222222222223]</td>\n",
       "      <td>[0.5186893096570936]</td>\n",
       "    </tr>\n",
       "  </tbody>\n",
       "</table>\n",
       "</div>"
      ],
      "text/plain": [
       "                       x               target_y                predicted\n",
       "0   [0.8910044150110377]  [0.07555555555555556]  [-0.061533967205704365]\n",
       "1  [0.16583885209713026]   [0.4155555555555555]     [0.4941609204019607]\n",
       "2  [0.05601545253863134]   [0.8977777777777778]     [0.5783186697428475]\n",
       "3   [0.0750551876379691]                 [0.62]     [0.5637285071686737]\n",
       "4  [0.13383002207505518]   [0.4022222222222223]     [0.5186893096570936]"
      ]
     },
     "execution_count": 43,
     "metadata": {
      "tags": []
     },
     "output_type": "execute_result"
    }
   ],
   "source": [
    "p=pd.DataFrame(list(zip(xtest,ytest,predicted)),columns=['x','target_y','predicted'])\n",
    "p.head()"
   ]
  },
  {
   "cell_type": "markdown",
   "metadata": {
    "colab_type": "text",
    "id": "YZrqsFH8A5NX"
   },
   "source": [
    "# Plotting the predicted linear regression line."
   ]
  },
  {
   "cell_type": "code",
   "execution_count": 44,
   "metadata": {
    "colab": {
     "base_uri": "https://localhost:8080/",
     "height": 283
    },
    "colab_type": "code",
    "id": "NHi0zEhHPU9D",
    "outputId": "56f4e1ef-8f80-4f20-b2ee-d708dc26e7e4"
   },
   "outputs": [
    {
     "data": {
      "text/plain": [
       "[<matplotlib.lines.Line2D at 0x7f8c1bab7470>]"
      ]
     },
     "execution_count": 44,
     "metadata": {
      "tags": []
     },
     "output_type": "execute_result"
    },
    {
     "data": {
      "image/png": "[encoded data removed]",
      "text/plain": [
       "<Figure size 432x288 with 1 Axes>"
      ]
     },
     "metadata": {
      "needs_background": "light",
      "tags": []
     },
     "output_type": "display_data"
    }
   ],
   "source": [
    "plt.scatter(xtest,ytest,color='b')\n",
    "plt.plot(xtest,predicted,color='r')"
   ]
  },
  {
   "cell_type": "code",
   "execution_count": 45,
   "metadata": {
    "colab": {
     "base_uri": "https://localhost:8080/",
     "height": 202
    },
    "colab_type": "code",
    "id": "ZKXaLByIPghO",
    "outputId": "b8466484-e699-4599-9b7a-c51676491cd5"
   },
   "outputs": [
    {
     "data": {
      "text/html": [
       "<div>\n",
       "<style scoped>\n",
       "    .dataframe tbody tr th:only-of-type {\n",
       "        vertical-align: middle;\n",
       "    }\n",
       "\n",
       "    .dataframe tbody tr th {\n",
       "        vertical-align: top;\n",
       "    }\n",
       "\n",
       "    .dataframe thead th {\n",
       "        text-align: right;\n",
       "    }\n",
       "</style>\n",
       "<table border=\"1\" class=\"dataframe\">\n",
       "  <thead>\n",
       "    <tr style=\"text-align: right;\">\n",
       "      <th></th>\n",
       "      <th>x</th>\n",
       "      <th>target_y</th>\n",
       "      <th>predicted</th>\n",
       "    </tr>\n",
       "  </thead>\n",
       "  <tbody>\n",
       "    <tr>\n",
       "      <th>0</th>\n",
       "      <td>34.02</td>\n",
       "      <td>8.4</td>\n",
       "      <td>2.23</td>\n",
       "    </tr>\n",
       "    <tr>\n",
       "      <th>1</th>\n",
       "      <td>7.74</td>\n",
       "      <td>23.7</td>\n",
       "      <td>27.24</td>\n",
       "    </tr>\n",
       "    <tr>\n",
       "      <th>2</th>\n",
       "      <td>3.76</td>\n",
       "      <td>45.4</td>\n",
       "      <td>31.02</td>\n",
       "    </tr>\n",
       "    <tr>\n",
       "      <th>3</th>\n",
       "      <td>4.45</td>\n",
       "      <td>32.9</td>\n",
       "      <td>30.37</td>\n",
       "    </tr>\n",
       "    <tr>\n",
       "      <th>4</th>\n",
       "      <td>6.58</td>\n",
       "      <td>23.1</td>\n",
       "      <td>28.34</td>\n",
       "    </tr>\n",
       "  </tbody>\n",
       "</table>\n",
       "</div>"
      ],
      "text/plain": [
       "       x  target_y  predicted\n",
       "0  34.02       8.4       2.23\n",
       "1   7.74      23.7      27.24\n",
       "2   3.76      45.4      31.02\n",
       "3   4.45      32.9      30.37\n",
       "4   6.58      23.1      28.34"
      ]
     },
     "execution_count": 45,
     "metadata": {
      "tags": []
     },
     "output_type": "execute_result"
    }
   ],
   "source": [
    "\n",
    "predicted=predicted.reshape(-1,1)\n",
    "xtest=xtest.reshape(-1,1)\n",
    "ytest=ytest.reshape(-1,1)\n",
    "xtest_scaled=x_scalar.inverse_transform(xtest)\n",
    "ytest_scaled=y_scalar.inverse_transform(ytest)\n",
    "predicted_scaled=y_scalar.inverse_transform(predicted)\n",
    "\n",
    "xtest_scaled=xtest_scaled[:,-1]\n",
    "ytest_scaled=ytest_scaled[:,-1]\n",
    "predicted_scaled=predicted_scaled[:,-1]\n",
    "\n",
    "\n",
    "p=pd.DataFrame(list(zip(xtest_scaled,ytest_scaled,predicted_scaled)),columns=['x','target_y','predicted'])\n",
    "p=p.round(decimals=2)\n",
    "p.head()"
   ]
  }
 ],
 "metadata": {
  "accelerator": "GPU",
  "colab": {
   "collapsed_sections": [],
   "name": "Boston house prediction.ipynb",
   "provenance": []
  },
  "kernelspec": {
   "display_name": "Python 3",
   "language": "python",
   "name": "python3"
  },
  "language_info": {
   "codemirror_mode": {
    "name": "ipython",
    "version": 3
   },
   "file_extension": ".py",
   "mimetype": "text/x-python",
   "name": "python",
   "nbconvert_exporter": "python",
   "pygments_lexer": "ipython3",
   "version": "3.7.6"
  }
 },
 "nbformat": 4,
 "nbformat_minor": 1
}
